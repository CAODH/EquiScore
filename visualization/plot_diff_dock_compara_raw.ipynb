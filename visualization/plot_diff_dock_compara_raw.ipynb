{
 "cells": [
  {
   "cell_type": "code",
   "execution_count": null,
   "metadata": {},
   "outputs": [],
   "source": [
    "import pandas as pd\n",
    "import numpy as np\n",
    "import seaborn as sns\n",
    "import matplotlib.pyplot as plt\n",
    "from collections import defaultdict\n",
    "from collections import Counter"
   ]
  },
  {
   "cell_type": "code",
   "execution_count": null,
   "metadata": {},
   "outputs": [],
   "source": [
    "def ArgparseEFFile(path,method = None):\n",
    "    data = pd.read_excel(path)\n",
    "    data.columns = ['TARGET', 'AUROC', 'BEDROC', f'0.5%EF', f'1.0%EF', f'5.0%EF']\n",
    "    data['TARGET'] = data['TARGET'].apply(lambda x : str(x).lower())\n",
    "    if method is None:\n",
    "        data['Method'] = [path.split('_')[-1].split('.')[0]]*len(data)\n",
    "    else:\n",
    "        data['Method'] = [method]*len(data)\n",
    "    return data\n",
    "\n",
    "def GetTargetInfo(path):\n",
    "    data_informations = pd.read_excel(path)\n",
    "    data_family = data_informations.loc[:,['Target Name','Classification']]\n",
    "    data_family.columns = ['TARGET','family']\n",
    "    data_family['TARGET'] = data_family['TARGET'].apply(lambda x : x.lower())\n",
    "    return data_family\n",
    "def GetPandasDataEF(data,):\n",
    "    name = []\n",
    "    efs = []\n",
    "    method = []\n",
    "    for col in data.columns:\n",
    "        if 'EF' in col:\n",
    "            name.extend([col]*len(data))\n",
    "            efs.extend(data[col].values)\n",
    "\n",
    "            method.extend(data['Method'].values)\n",
    "    efs_df = pd.DataFrame({'name':name,\n",
    "                        'efs':efs,\n",
    "                        'method':method})\n",
    "    return efs_df\n",
    "def GetPandasDataROC(data):\n",
    "    name = []\n",
    "    efs = []\n",
    "    method = []\n",
    "    for col in data.columns:\n",
    "        if 'ROC' in col:\n",
    "            name.extend([col]*len(data))\n",
    "            efs.extend(data[col].values)\n",
    "\n",
    "            method.extend(data['Method'].values)\n",
    "    efs_df = pd.DataFrame({'name':name,\n",
    "                        'efs':efs,\n",
    "                        'method':method})\n",
    "    efs_df = efs_df.fillna(0.0)\n",
    "    return efs_df"
   ]
  },
  {
   "cell_type": "code",
   "execution_count": null,
   "metadata": {},
   "outputs": [],
   "source": [
    "data_list = [\n",
    "    'dekois_AutoDock Vina.xlsx',\n",
    "    'dekois2_VINA_EquiScore.xlsx',\n",
    "    'dekois_GOLD.xlsx',\n",
    "    'dekois2_GOLD_EquiScore.xlsx',\n",
    "    'dekois_Surflex-Dock.xlsx',\n",
    "    'dekois2_SURFLEX_EquiScore.xlsx',\n",
    "    'dekois_LeDock.xlsx',\n",
    "    'dekois2_LEDOCK_EquiScore.xlsx',\n",
    "    'dekois_GLIDE SP.xlsx',\n",
    "    'dekois2_SP_EquiScore.xlsx', \n",
    "]\n",
    "\n",
    "datas = []\n",
    "methods = ['AutoDock Vina','AutoDock Vina + EquiScore','GOLD','GOLD + EquiScore','Surflex-Dock','Surflex-Dock + EquiScore',\\\n",
    "    'LeDock','LeDock + EquiScore','GLIDE SP','GLIDE SP + EquiScore',]\n",
    "for data_path ,method in zip(data_list,methods):\n",
    "    data_raw = ArgparseEFFile(data_path,method)\n",
    "\n",
    "\n",
    "    datas.append(data_raw)\n",
    "datas = pd.concat(datas,axis = 0)\n",
    "efs_df =  GetPandasDataEF(datas)\n",
    "efs_df['dock_method'] = efs_df['method'].apply(lambda x: x if '+' not in x else x.split(' +')[0])\n",
    "efs_df['With EquiScore'] = efs_df['method'].apply(lambda x: 'NO' if '+' not in x else 'YES')"
   ]
  },
  {
   "cell_type": "code",
   "execution_count": null,
   "metadata": {},
   "outputs": [],
   "source": [
    "color_styles = ['deep', 'muted', 'pastel', 'bright', 'dark', 'colorblind']\n",
    "# for color in coloyles:r_st\n",
    "import random\n",
    "random.seed(42)\n",
    "np.random.seed(42)\n",
    "current_palette = sns.color_palette('pastel')\n",
    "\n",
    "current_palette[0] = current_palette[5]\n",
    "current_palette[1] = current_palette[4]"
   ]
  },
  {
   "cell_type": "code",
   "execution_count": null,
   "metadata": {},
   "outputs": [],
   "source": [
    "efs_df"
   ]
  },
  {
   "cell_type": "code",
   "execution_count": null,
   "metadata": {},
   "outputs": [],
   "source": [
    "current_palette"
   ]
  },
  {
   "cell_type": "code",
   "execution_count": null,
   "metadata": {},
   "outputs": [],
   "source": [
    "sns.set_theme(style=\"ticks\", palette=current_palette)\n",
    "figure = plt.figure(figsize = (12,8))\n",
    "fig = sns.boxplot(x=\"dock_method\", y=\"efs\",hue='With EquiScore',showmeans=True,meanprops={\"marker\":\"o\",\n",
    "                       \"markerfacecolor\":\"white\", \n",
    "                       \"markeredgecolor\":\"black\",\n",
    "                      \"markersize\":\"5\"},\n",
    "            data=efs_df[efs_df['name'] == f'1.0%EF'])\n",
    "\n",
    "plt.ylabel(\"Enrichment Factor(0.5%)\",fontsize = 20)\n",
    "plt.yticks(fontsize = 16)\n",
    "plt.xlabel('Method',fontsize = 20,labelpad=12)\n",
    "plt.xticks(fontsize = 16)"
   ]
  },
  {
   "cell_type": "code",
   "execution_count": null,
   "metadata": {},
   "outputs": [],
   "source": [
    "\n",
    "efs_df_ROC =  GetPandasDataROC(datas)\n",
    "efs_df_ROC['dock_method'] = efs_df_ROC['method'].apply(lambda x: x if '+' not in x else x.split(' +')[0])\n",
    "efs_df_ROC['With EquiScore'] = efs_df_ROC['method'].apply(lambda x: 'NO' if '+' not in x else 'YES')"
   ]
  },
  {
   "cell_type": "code",
   "execution_count": null,
   "metadata": {},
   "outputs": [],
   "source": [
    "sns.set_theme(style=\"ticks\", palette=current_palette)\n",
    "figure = plt.figure(figsize = (12,8))\n",
    "\n",
    "fig = sns.boxplot(x=\"dock_method\", y=\"efs\",hue='With EquiScore',showmeans=True,meanprops={\"marker\":\"o\",\n",
    "                       \"markerfacecolor\":\"white\", \n",
    "                       \"markeredgecolor\":\"black\",\n",
    "                      \"markersize\":\"5\"},\n",
    "            data=efs_df_ROC[efs_df_ROC['name'] == f'AUROC'])\n",
    "\n",
    "plt.ylabel(\"BEDROC\",fontsize = 20)\n",
    "plt.yticks(fontsize = 16)\n",
    "plt.xlabel('Method',fontsize = 20,labelpad=12)\n",
    "plt.xticks(fontsize = 16)"
   ]
  }
 ],
 "metadata": {
  "kernelspec": {
   "display_name": "prolif",
   "language": "python",
   "name": "prolif"
  },
  "language_info": {
   "codemirror_mode": {
    "name": "ipython",
    "version": 3
   },
   "file_extension": ".py",
   "mimetype": "text/x-python",
   "name": "python",
   "nbconvert_exporter": "python",
   "pygments_lexer": "ipython3",
   "version": "3.8.0"
  },
  "orig_nbformat": 4,
  "vscode": {
   "interpreter": {
    "hash": "96436f40073403b92d0f6092870a4b0301a0bb0cd6de222383e9be5ad32e5880"
   }
  }
 },
 "nbformat": 4,
 "nbformat_minor": 2
}
