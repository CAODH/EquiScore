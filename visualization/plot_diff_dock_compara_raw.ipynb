{
 "cells": [
  {
   "cell_type": "code",
   "execution_count": 1,
   "metadata": {},
   "outputs": [],
   "source": [
    "import pandas as pd\n",
    "import numpy as np\n",
    "import seaborn as sns\n",
    "import matplotlib.pyplot as plt\n",
    "from collections import defaultdict\n",
    "from collections import Counter"
   ]
  },
  {
   "cell_type": "code",
   "execution_count": 2,
   "metadata": {},
   "outputs": [],
   "source": [
    "def ArgparseEFFile(path,method = None):\n",
    "    data = pd.read_excel(path)\n",
    "    data.columns = ['TARGET', 'AUROC', 'BEDROC', f'0.5%EF', f'1.0%EF', f'5.0%EF']\n",
    "    data['TARGET'] = data['TARGET'].apply(lambda x : str(x).lower())\n",
    "    if method is None:\n",
    "        data['Method'] = [path.split('_')[-1].split('.')[0]]*len(data)\n",
    "    else:\n",
    "        data['Method'] = [method]*len(data)\n",
    "    return data\n",
    "\n",
    "def GetTargetInfo(path):\n",
    "    data_informations = pd.read_excel(path)\n",
    "    data_family = data_informations.loc[:,['Target Name','Classification']]\n",
    "    data_family.columns = ['TARGET','family']\n",
    "    data_family['TARGET'] = data_family['TARGET'].apply(lambda x : x.lower())\n",
    "    return data_family\n",
    "def GetPandasDataEF(data,):\n",
    "    # print(data.columns)\n",
    "    name = []\n",
    "    efs = []\n",
    "    method = []\n",
    "    for col in data.columns:\n",
    "        if 'EF' in col:\n",
    "            name.extend([col]*len(data))\n",
    "            efs.extend(data[col].values)\n",
    "\n",
    "            method.extend(data['Method'].values)\n",
    "    efs_df = pd.DataFrame({'name':name,\n",
    "                        'efs':efs,\n",
    "                        'method':method})\n",
    "    return efs_df\n",
    "def GetPandasDataROC(data):\n",
    "    name = []\n",
    "    efs = []\n",
    "    method = []\n",
    "    for col in data.columns:\n",
    "        if 'ROC' in col:\n",
    "            name.extend([col]*len(data))\n",
    "            efs.extend(data[col].values)\n",
    "\n",
    "            method.extend(data['Method'].values)\n",
    "    efs_df = pd.DataFrame({'name':name,\n",
    "                        'efs':efs,\n",
    "                        'method':method})\n",
    "    efs_df = efs_df.fillna(0.0)\n",
    "    return efs_df"
   ]
  },
  {
   "cell_type": "code",
   "execution_count": 4,
   "metadata": {},
   "outputs": [],
   "source": [
    "data_list = [\n",
    "    'dekois_AutoDock Vina.xlsx',\n",
    "    'dekois2_VINA_EquiScore.xlsx',\n",
    "    'dekois_GOLD.xlsx',\n",
    "    'dekois2_GOLD_EquiScore.xlsx',\n",
    "    'dekois_Surflex-Dock.xlsx',\n",
    "    'dekois2_SURFLEX_EquiScore.xlsx',\n",
    "    'dekois_LeDock.xlsx',\n",
    "    'dekois2_LEDOCK_EquiScore.xlsx',\n",
    "    'dekois_GLIDE SP.xlsx',\n",
    "    'dekois2_SP_EquiScore.xlsx', \n",
    "]\n",
    "\n",
    "datas = []\n",
    "methods = ['AutoDock Vina','AutoDock Vina + EquiScore','GOLD','GOLD + EquiScore','Surflex-Dock','Surflex-Dock + EquiScore',\\\n",
    "    'LeDock','LeDock + EquiScore','GLIDE SP','GLIDE SP + EquiScore',]\n",
    "for data_path ,method in zip(data_list,methods):\n",
    "    data_raw = ArgparseEFFile(data_path,method)\n",
    "    # data_raw['dock_method'] = method.split(' +')[0]\n",
    "    # print(data_raw.columns)\n",
    "\n",
    "    datas.append(data_raw)\n",
    "datas = pd.concat(datas,axis = 0)\n",
    "efs_df =  GetPandasDataEF(datas)\n",
    "# efs_df = efs_df.fillna(0.0)\n",
    "efs_df['dock_method'] = efs_df['method'].apply(lambda x: x if '+' not in x else x.split(' +')[0])\n",
    "efs_df['With EquiScore'] = efs_df['method'].apply(lambda x: 'NO' if '+' not in x else 'YES')"
   ]
  },
  {
   "cell_type": "code",
   "execution_count": 5,
   "metadata": {},
   "outputs": [],
   "source": [
    "color_styles = ['deep', 'muted', 'pastel', 'bright', 'dark', 'colorblind']\n",
    "# for color in color_styles:\n",
    "import random\n",
    "random.seed(42)\n",
    "np.random.seed(42)\n",
    "current_palette = sns.color_palette('pastel')\n",
    "\n",
    "current_palette[0] = current_palette[5]\n",
    "current_palette[1] = current_palette[4]"
   ]
  },
  {
   "cell_type": "code",
   "execution_count": 13,
   "metadata": {},
   "outputs": [
    {
     "data": {
      "text/html": [
       "<div>\n",
       "<style scoped>\n",
       "    .dataframe tbody tr th:only-of-type {\n",
       "        vertical-align: middle;\n",
       "    }\n",
       "\n",
       "    .dataframe tbody tr th {\n",
       "        vertical-align: top;\n",
       "    }\n",
       "\n",
       "    .dataframe thead th {\n",
       "        text-align: right;\n",
       "    }\n",
       "</style>\n",
       "<table border=\"1\" class=\"dataframe\">\n",
       "  <thead>\n",
       "    <tr style=\"text-align: right;\">\n",
       "      <th></th>\n",
       "      <th>name</th>\n",
       "      <th>efs</th>\n",
       "      <th>method</th>\n",
       "      <th>dock_method</th>\n",
       "      <th>With EquiScore</th>\n",
       "    </tr>\n",
       "  </thead>\n",
       "  <tbody>\n",
       "    <tr>\n",
       "      <th>0</th>\n",
       "      <td>0.5%EF</td>\n",
       "      <td>0.000</td>\n",
       "      <td>AutoDock Vina</td>\n",
       "      <td>AutoDock Vina</td>\n",
       "      <td>NO</td>\n",
       "    </tr>\n",
       "    <tr>\n",
       "      <th>1</th>\n",
       "      <td>0.5%EF</td>\n",
       "      <td>0.000</td>\n",
       "      <td>AutoDock Vina</td>\n",
       "      <td>AutoDock Vina</td>\n",
       "      <td>NO</td>\n",
       "    </tr>\n",
       "    <tr>\n",
       "      <th>2</th>\n",
       "      <td>0.5%EF</td>\n",
       "      <td>0.000</td>\n",
       "      <td>AutoDock Vina</td>\n",
       "      <td>AutoDock Vina</td>\n",
       "      <td>NO</td>\n",
       "    </tr>\n",
       "    <tr>\n",
       "      <th>3</th>\n",
       "      <td>0.5%EF</td>\n",
       "      <td>0.000</td>\n",
       "      <td>AutoDock Vina</td>\n",
       "      <td>AutoDock Vina</td>\n",
       "      <td>NO</td>\n",
       "    </tr>\n",
       "    <tr>\n",
       "      <th>4</th>\n",
       "      <td>0.5%EF</td>\n",
       "      <td>0.000</td>\n",
       "      <td>AutoDock Vina</td>\n",
       "      <td>AutoDock Vina</td>\n",
       "      <td>NO</td>\n",
       "    </tr>\n",
       "    <tr>\n",
       "      <th>...</th>\n",
       "      <td>...</td>\n",
       "      <td>...</td>\n",
       "      <td>...</td>\n",
       "      <td>...</td>\n",
       "      <td>...</td>\n",
       "    </tr>\n",
       "    <tr>\n",
       "      <th>2425</th>\n",
       "      <td>5.0%EF</td>\n",
       "      <td>8.121</td>\n",
       "      <td>GLIDE SP + EquiScore</td>\n",
       "      <td>GLIDE SP</td>\n",
       "      <td>YES</td>\n",
       "    </tr>\n",
       "    <tr>\n",
       "      <th>2426</th>\n",
       "      <td>5.0%EF</td>\n",
       "      <td>2.540</td>\n",
       "      <td>GLIDE SP + EquiScore</td>\n",
       "      <td>GLIDE SP</td>\n",
       "      <td>YES</td>\n",
       "    </tr>\n",
       "    <tr>\n",
       "      <th>2427</th>\n",
       "      <td>5.0%EF</td>\n",
       "      <td>9.313</td>\n",
       "      <td>GLIDE SP + EquiScore</td>\n",
       "      <td>GLIDE SP</td>\n",
       "      <td>YES</td>\n",
       "    </tr>\n",
       "    <tr>\n",
       "      <th>2428</th>\n",
       "      <td>5.0%EF</td>\n",
       "      <td>4.110</td>\n",
       "      <td>GLIDE SP + EquiScore</td>\n",
       "      <td>GLIDE SP</td>\n",
       "      <td>YES</td>\n",
       "    </tr>\n",
       "    <tr>\n",
       "      <th>2429</th>\n",
       "      <td>5.0%EF</td>\n",
       "      <td>12.432</td>\n",
       "      <td>GLIDE SP + EquiScore</td>\n",
       "      <td>GLIDE SP</td>\n",
       "      <td>YES</td>\n",
       "    </tr>\n",
       "  </tbody>\n",
       "</table>\n",
       "<p>2430 rows × 5 columns</p>\n",
       "</div>"
      ],
      "text/plain": [
       "        name     efs                method    dock_method With EquiScore\n",
       "0     0.5%EF   0.000         AutoDock Vina  AutoDock Vina             NO\n",
       "1     0.5%EF   0.000         AutoDock Vina  AutoDock Vina             NO\n",
       "2     0.5%EF   0.000         AutoDock Vina  AutoDock Vina             NO\n",
       "3     0.5%EF   0.000         AutoDock Vina  AutoDock Vina             NO\n",
       "4     0.5%EF   0.000         AutoDock Vina  AutoDock Vina             NO\n",
       "...      ...     ...                   ...            ...            ...\n",
       "2425  5.0%EF   8.121  GLIDE SP + EquiScore       GLIDE SP            YES\n",
       "2426  5.0%EF   2.540  GLIDE SP + EquiScore       GLIDE SP            YES\n",
       "2427  5.0%EF   9.313  GLIDE SP + EquiScore       GLIDE SP            YES\n",
       "2428  5.0%EF   4.110  GLIDE SP + EquiScore       GLIDE SP            YES\n",
       "2429  5.0%EF  12.432  GLIDE SP + EquiScore       GLIDE SP            YES\n",
       "\n",
       "[2430 rows x 5 columns]"
      ]
     },
     "execution_count": 13,
     "metadata": {},
     "output_type": "execute_result"
    }
   ],
   "source": [
    "efs_df"
   ]
  },
  {
   "cell_type": "code",
   "execution_count": 6,
   "metadata": {},
   "outputs": [
    {
     "data": {
      "text/html": [
       "<svg  width=\"550\" height=\"55\"><rect x=\"0\" y=\"0\" width=\"55\" height=\"55\" style=\"fill:#debb9b;stroke-width:2;stroke:rgb(255,255,255)\"/><rect x=\"55\" y=\"0\" width=\"55\" height=\"55\" style=\"fill:#d0bbff;stroke-width:2;stroke:rgb(255,255,255)\"/><rect x=\"110\" y=\"0\" width=\"55\" height=\"55\" style=\"fill:#8de5a1;stroke-width:2;stroke:rgb(255,255,255)\"/><rect x=\"165\" y=\"0\" width=\"55\" height=\"55\" style=\"fill:#ff9f9b;stroke-width:2;stroke:rgb(255,255,255)\"/><rect x=\"220\" y=\"0\" width=\"55\" height=\"55\" style=\"fill:#d0bbff;stroke-width:2;stroke:rgb(255,255,255)\"/><rect x=\"275\" y=\"0\" width=\"55\" height=\"55\" style=\"fill:#debb9b;stroke-width:2;stroke:rgb(255,255,255)\"/><rect x=\"330\" y=\"0\" width=\"55\" height=\"55\" style=\"fill:#fab0e4;stroke-width:2;stroke:rgb(255,255,255)\"/><rect x=\"385\" y=\"0\" width=\"55\" height=\"55\" style=\"fill:#cfcfcf;stroke-width:2;stroke:rgb(255,255,255)\"/><rect x=\"440\" y=\"0\" width=\"55\" height=\"55\" style=\"fill:#fffea3;stroke-width:2;stroke:rgb(255,255,255)\"/><rect x=\"495\" y=\"0\" width=\"55\" height=\"55\" style=\"fill:#b9f2f0;stroke-width:2;stroke:rgb(255,255,255)\"/></svg>"
      ],
      "text/plain": [
       "[(0.8705882352941177, 0.7333333333333333, 0.6078431372549019),\n",
       " (0.8156862745098039, 0.7333333333333333, 1.0),\n",
       " (0.5529411764705883, 0.8980392156862745, 0.6313725490196078),\n",
       " (1.0, 0.6235294117647059, 0.6078431372549019),\n",
       " (0.8156862745098039, 0.7333333333333333, 1.0),\n",
       " (0.8705882352941177, 0.7333333333333333, 0.6078431372549019),\n",
       " (0.9803921568627451, 0.6901960784313725, 0.8941176470588236),\n",
       " (0.8117647058823529, 0.8117647058823529, 0.8117647058823529),\n",
       " (1.0, 0.996078431372549, 0.6392156862745098),\n",
       " (0.7254901960784313, 0.9490196078431372, 0.9411764705882353)]"
      ]
     },
     "execution_count": 6,
     "metadata": {},
     "output_type": "execute_result"
    }
   ],
   "source": [
    "current_palette"
   ]
  },
  {
   "cell_type": "code",
   "execution_count": 12,
   "metadata": {},
   "outputs": [
    {
     "ename": "ValueError",
     "evalue": "min() arg is an empty sequence",
     "output_type": "error",
     "traceback": [
      "\u001b[0;31m---------------------------------------------------------------------------\u001b[0m",
      "\u001b[0;31mValueError\u001b[0m                                Traceback (most recent call last)",
      "\u001b[1;32m/home/caoduanhua/score_function/data/EF_analysis_EVERY_TARGET/plot_diff_dock_compara_raw.ipynb Cell 6\u001b[0m in \u001b[0;36m<cell line: 6>\u001b[0;34m()\u001b[0m\n\u001b[1;32m      <a href='vscode-notebook-cell://ssh-remote%2B172.21.8.35/home/caoduanhua/score_function/data/EF_analysis_EVERY_TARGET/plot_diff_dock_compara_raw.ipynb#W5sdnNjb2RlLXJlbW90ZQ%3D%3D?line=1'>2</a>\u001b[0m figure \u001b[39m=\u001b[39m plt\u001b[39m.\u001b[39mfigure(figsize \u001b[39m=\u001b[39m (\u001b[39m12\u001b[39m,\u001b[39m8\u001b[39m))\n\u001b[1;32m      <a href='vscode-notebook-cell://ssh-remote%2B172.21.8.35/home/caoduanhua/score_function/data/EF_analysis_EVERY_TARGET/plot_diff_dock_compara_raw.ipynb#W5sdnNjb2RlLXJlbW90ZQ%3D%3D?line=3'>4</a>\u001b[0m \u001b[39m# color = efs_df_single_family[''].apply(lambda x:current_palette[int(x)])\u001b[39;00m\n\u001b[1;32m      <a href='vscode-notebook-cell://ssh-remote%2B172.21.8.35/home/caoduanhua/score_function/data/EF_analysis_EVERY_TARGET/plot_diff_dock_compara_raw.ipynb#W5sdnNjb2RlLXJlbW90ZQ%3D%3D?line=4'>5</a>\u001b[0m \u001b[39m# print(len(set(color)))\u001b[39;00m\n\u001b[0;32m----> <a href='vscode-notebook-cell://ssh-remote%2B172.21.8.35/home/caoduanhua/score_function/data/EF_analysis_EVERY_TARGET/plot_diff_dock_compara_raw.ipynb#W5sdnNjb2RlLXJlbW90ZQ%3D%3D?line=5'>6</a>\u001b[0m fig \u001b[39m=\u001b[39m sns\u001b[39m.\u001b[39;49mboxplot(x\u001b[39m=\u001b[39;49m\u001b[39m\"\u001b[39;49m\u001b[39mdock_method\u001b[39;49m\u001b[39m\"\u001b[39;49m, y\u001b[39m=\u001b[39;49m\u001b[39m\"\u001b[39;49m\u001b[39mefs\u001b[39;49m\u001b[39m\"\u001b[39;49m,hue\u001b[39m=\u001b[39;49m\u001b[39m'\u001b[39;49m\u001b[39mWith EquiScore\u001b[39;49m\u001b[39m'\u001b[39;49m,showmeans\u001b[39m=\u001b[39;49m\u001b[39mTrue\u001b[39;49;00m,meanprops\u001b[39m=\u001b[39;49m{\u001b[39m\"\u001b[39;49m\u001b[39mmarker\u001b[39;49m\u001b[39m\"\u001b[39;49m:\u001b[39m\"\u001b[39;49m\u001b[39mo\u001b[39;49m\u001b[39m\"\u001b[39;49m,\n\u001b[1;32m      <a href='vscode-notebook-cell://ssh-remote%2B172.21.8.35/home/caoduanhua/score_function/data/EF_analysis_EVERY_TARGET/plot_diff_dock_compara_raw.ipynb#W5sdnNjb2RlLXJlbW90ZQ%3D%3D?line=6'>7</a>\u001b[0m                        \u001b[39m\"\u001b[39;49m\u001b[39mmarkerfacecolor\u001b[39;49m\u001b[39m\"\u001b[39;49m:\u001b[39m\"\u001b[39;49m\u001b[39mwhite\u001b[39;49m\u001b[39m\"\u001b[39;49m, \n\u001b[1;32m      <a href='vscode-notebook-cell://ssh-remote%2B172.21.8.35/home/caoduanhua/score_function/data/EF_analysis_EVERY_TARGET/plot_diff_dock_compara_raw.ipynb#W5sdnNjb2RlLXJlbW90ZQ%3D%3D?line=7'>8</a>\u001b[0m                        \u001b[39m\"\u001b[39;49m\u001b[39mmarkeredgecolor\u001b[39;49m\u001b[39m\"\u001b[39;49m:\u001b[39m\"\u001b[39;49m\u001b[39mblack\u001b[39;49m\u001b[39m\"\u001b[39;49m,\n\u001b[1;32m      <a href='vscode-notebook-cell://ssh-remote%2B172.21.8.35/home/caoduanhua/score_function/data/EF_analysis_EVERY_TARGET/plot_diff_dock_compara_raw.ipynb#W5sdnNjb2RlLXJlbW90ZQ%3D%3D?line=8'>9</a>\u001b[0m                       \u001b[39m\"\u001b[39;49m\u001b[39mmarkersize\u001b[39;49m\u001b[39m\"\u001b[39;49m:\u001b[39m\"\u001b[39;49m\u001b[39m5\u001b[39;49m\u001b[39m\"\u001b[39;49m},\n\u001b[1;32m     <a href='vscode-notebook-cell://ssh-remote%2B172.21.8.35/home/caoduanhua/score_function/data/EF_analysis_EVERY_TARGET/plot_diff_dock_compara_raw.ipynb#W5sdnNjb2RlLXJlbW90ZQ%3D%3D?line=9'>10</a>\u001b[0m             data\u001b[39m=\u001b[39;49mefs_df[efs_df[\u001b[39m'\u001b[39;49m\u001b[39mname\u001b[39;49m\u001b[39m'\u001b[39;49m] \u001b[39m==\u001b[39;49m \u001b[39mf\u001b[39;49m\u001b[39m'\u001b[39;49m\u001b[39mAUROC\u001b[39;49m\u001b[39m'\u001b[39;49m])\n\u001b[1;32m     <a href='vscode-notebook-cell://ssh-remote%2B172.21.8.35/home/caoduanhua/score_function/data/EF_analysis_EVERY_TARGET/plot_diff_dock_compara_raw.ipynb#W5sdnNjb2RlLXJlbW90ZQ%3D%3D?line=10'>11</a>\u001b[0m \u001b[39m# fig.legend(ncol=3,loc='upper right',fontsize=16)\u001b[39;00m\n\u001b[1;32m     <a href='vscode-notebook-cell://ssh-remote%2B172.21.8.35/home/caoduanhua/score_function/data/EF_analysis_EVERY_TARGET/plot_diff_dock_compara_raw.ipynb#W5sdnNjb2RlLXJlbW90ZQ%3D%3D?line=11'>12</a>\u001b[0m \u001b[39m# figure.add_subplot(241)\u001b[39;00m\n\u001b[1;32m     <a href='vscode-notebook-cell://ssh-remote%2B172.21.8.35/home/caoduanhua/score_function/data/EF_analysis_EVERY_TARGET/plot_diff_dock_compara_raw.ipynb#W5sdnNjb2RlLXJlbW90ZQ%3D%3D?line=12'>13</a>\u001b[0m plt\u001b[39m.\u001b[39mylabel(\u001b[39m\"\u001b[39m\u001b[39mEnrichment Factor(0.5\u001b[39m\u001b[39m%\u001b[39m\u001b[39m)\u001b[39m\u001b[39m\"\u001b[39m,fontsize \u001b[39m=\u001b[39m \u001b[39m20\u001b[39m)\n",
      "File \u001b[0;32m~/anaconda3/envs/prolif/lib/python3.8/site-packages/seaborn/categorical.py:2231\u001b[0m, in \u001b[0;36mboxplot\u001b[0;34m(data, x, y, hue, order, hue_order, orient, color, palette, saturation, width, dodge, fliersize, linewidth, whis, ax, **kwargs)\u001b[0m\n\u001b[1;32m   2224\u001b[0m \u001b[39mdef\u001b[39;00m \u001b[39mboxplot\u001b[39m(\n\u001b[1;32m   2225\u001b[0m     data\u001b[39m=\u001b[39m\u001b[39mNone\u001b[39;00m, \u001b[39m*\u001b[39m, x\u001b[39m=\u001b[39m\u001b[39mNone\u001b[39;00m, y\u001b[39m=\u001b[39m\u001b[39mNone\u001b[39;00m, hue\u001b[39m=\u001b[39m\u001b[39mNone\u001b[39;00m, order\u001b[39m=\u001b[39m\u001b[39mNone\u001b[39;00m, hue_order\u001b[39m=\u001b[39m\u001b[39mNone\u001b[39;00m,\n\u001b[1;32m   2226\u001b[0m     orient\u001b[39m=\u001b[39m\u001b[39mNone\u001b[39;00m, color\u001b[39m=\u001b[39m\u001b[39mNone\u001b[39;00m, palette\u001b[39m=\u001b[39m\u001b[39mNone\u001b[39;00m, saturation\u001b[39m=\u001b[39m\u001b[39m.75\u001b[39m, width\u001b[39m=\u001b[39m\u001b[39m.8\u001b[39m,\n\u001b[1;32m   2227\u001b[0m     dodge\u001b[39m=\u001b[39m\u001b[39mTrue\u001b[39;00m, fliersize\u001b[39m=\u001b[39m\u001b[39m5\u001b[39m, linewidth\u001b[39m=\u001b[39m\u001b[39mNone\u001b[39;00m, whis\u001b[39m=\u001b[39m\u001b[39m1.5\u001b[39m, ax\u001b[39m=\u001b[39m\u001b[39mNone\u001b[39;00m,\n\u001b[1;32m   2228\u001b[0m     \u001b[39m*\u001b[39m\u001b[39m*\u001b[39mkwargs\n\u001b[1;32m   2229\u001b[0m ):\n\u001b[0;32m-> 2231\u001b[0m     plotter \u001b[39m=\u001b[39m _BoxPlotter(x, y, hue, data, order, hue_order,\n\u001b[1;32m   2232\u001b[0m                           orient, color, palette, saturation,\n\u001b[1;32m   2233\u001b[0m                           width, dodge, fliersize, linewidth)\n\u001b[1;32m   2235\u001b[0m     \u001b[39mif\u001b[39;00m ax \u001b[39mis\u001b[39;00m \u001b[39mNone\u001b[39;00m:\n\u001b[1;32m   2236\u001b[0m         ax \u001b[39m=\u001b[39m plt\u001b[39m.\u001b[39mgca()\n",
      "File \u001b[0;32m~/anaconda3/envs/prolif/lib/python3.8/site-packages/seaborn/categorical.py:786\u001b[0m, in \u001b[0;36m_BoxPlotter.__init__\u001b[0;34m(self, x, y, hue, data, order, hue_order, orient, color, palette, saturation, width, dodge, fliersize, linewidth)\u001b[0m\n\u001b[1;32m    781\u001b[0m \u001b[39mdef\u001b[39;00m \u001b[39m__init__\u001b[39m(\u001b[39mself\u001b[39m, x, y, hue, data, order, hue_order,\n\u001b[1;32m    782\u001b[0m              orient, color, palette, saturation,\n\u001b[1;32m    783\u001b[0m              width, dodge, fliersize, linewidth):\n\u001b[1;32m    785\u001b[0m     \u001b[39mself\u001b[39m\u001b[39m.\u001b[39mestablish_variables(x, y, hue, data, orient, order, hue_order)\n\u001b[0;32m--> 786\u001b[0m     \u001b[39mself\u001b[39;49m\u001b[39m.\u001b[39;49mestablish_colors(color, palette, saturation)\n\u001b[1;32m    788\u001b[0m     \u001b[39mself\u001b[39m\u001b[39m.\u001b[39mdodge \u001b[39m=\u001b[39m dodge\n\u001b[1;32m    789\u001b[0m     \u001b[39mself\u001b[39m\u001b[39m.\u001b[39mwidth \u001b[39m=\u001b[39m width\n",
      "File \u001b[0;32m~/anaconda3/envs/prolif/lib/python3.8/site-packages/seaborn/categorical.py:707\u001b[0m, in \u001b[0;36m_CategoricalPlotter.establish_colors\u001b[0;34m(self, color, palette, saturation)\u001b[0m\n\u001b[1;32m    705\u001b[0m \u001b[39m# Determine the gray color to use for the lines framing the plot\u001b[39;00m\n\u001b[1;32m    706\u001b[0m light_vals \u001b[39m=\u001b[39m [rgb_to_hls(\u001b[39m*\u001b[39mc)[\u001b[39m1\u001b[39m] \u001b[39mfor\u001b[39;00m c \u001b[39min\u001b[39;00m rgb_colors]\n\u001b[0;32m--> 707\u001b[0m lum \u001b[39m=\u001b[39m \u001b[39mmin\u001b[39;49m(light_vals) \u001b[39m*\u001b[39m \u001b[39m.6\u001b[39m\n\u001b[1;32m    708\u001b[0m gray \u001b[39m=\u001b[39m mpl\u001b[39m.\u001b[39mcolors\u001b[39m.\u001b[39mrgb2hex((lum, lum, lum))\n\u001b[1;32m    710\u001b[0m \u001b[39m# Assign object attributes\u001b[39;00m\n",
      "\u001b[0;31mValueError\u001b[0m: min() arg is an empty sequence"
     ]
    },
    {
     "data": {
      "text/plain": [
       "<Figure size 864x576 with 0 Axes>"
      ]
     },
     "metadata": {},
     "output_type": "display_data"
    }
   ],
   "source": [
    "sns.set_theme(style=\"ticks\", palette=current_palette)\n",
    "figure = plt.figure(figsize = (12,8))\n",
    "\n",
    "# color = efs_df_single_family[''].apply(lambda x:current_palette[int(x)])\n",
    "# print(len(set(color)))\n",
    "fig = sns.boxplot(x=\"dock_method\", y=\"efs\",hue='With EquiScore',showmeans=True,meanprops={\"marker\":\"o\",\n",
    "                       \"markerfacecolor\":\"white\", \n",
    "                       \"markeredgecolor\":\"black\",\n",
    "                      \"markersize\":\"5\"},\n",
    "            data=efs_df[efs_df['name'] == f'1.0%EF'])\n",
    "# fig.legend(ncol=3,loc='upper right',fontsize=16)\n",
    "# figure.add_subplot(241)\n",
    "plt.ylabel(\"Enrichment Factor(0.5%)\",fontsize = 20)\n",
    "plt.yticks(fontsize = 16)\n",
    "plt.xlabel('Method',fontsize = 20,labelpad=12)\n",
    "plt.xticks(fontsize = 16)\n",
    "# plt.savefig(f'/home/caoduanhua/score_function/data/EF_analysis_EVERY_TARGET/figures/dekois2_EquiScore_compare_raw_05%EF.png',dpi=660,format='png')"
   ]
  },
  {
   "cell_type": "code",
   "execution_count": 8,
   "metadata": {},
   "outputs": [],
   "source": [
    "\n",
    "efs_df_ROC =  GetPandasDataROC(datas)\n",
    "efs_df_ROC['dock_method'] = efs_df_ROC['method'].apply(lambda x: x if '+' not in x else x.split(' +')[0])\n",
    "efs_df_ROC['With EquiScore'] = efs_df_ROC['method'].apply(lambda x: 'NO' if '+' not in x else 'YES')"
   ]
  },
  {
   "cell_type": "code",
   "execution_count": 15,
   "metadata": {},
   "outputs": [
    {
     "data": {
      "text/plain": [
       "(array([0, 1, 2, 3, 4]),\n",
       " [Text(0, 0, 'AutoDock Vina'),\n",
       "  Text(1, 0, 'GOLD'),\n",
       "  Text(2, 0, 'Surflex-Dock'),\n",
       "  Text(3, 0, 'LeDock'),\n",
       "  Text(4, 0, 'GLIDE SP')])"
      ]
     },
     "execution_count": 15,
     "metadata": {},
     "output_type": "execute_result"
    },
    {
     "data": {
      "image/png": "[encoded data removed]",
      "text/plain": [
       "<Figure size 864x576 with 1 Axes>"
      ]
     },
     "metadata": {},
     "output_type": "display_data"
    }
   ],
   "source": [
    "sns.set_theme(style=\"ticks\", palette=current_palette)\n",
    "figure = plt.figure(figsize = (12,8))\n",
    "\n",
    "fig = sns.boxplot(x=\"dock_method\", y=\"efs\",hue='With EquiScore',showmeans=True,meanprops={\"marker\":\"o\",\n",
    "                       \"markerfacecolor\":\"white\", \n",
    "                       \"markeredgecolor\":\"black\",\n",
    "                      \"markersize\":\"5\"},\n",
    "            data=efs_df_ROC[efs_df_ROC['name'] == f'AUROC'])\n",
    "\n",
    "plt.ylabel(\"BEDROC\",fontsize = 20)\n",
    "plt.yticks(fontsize = 16)\n",
    "plt.xlabel('Method',fontsize = 20,labelpad=12)\n",
    "plt.xticks(fontsize = 16)"
   ]
  }
 ],
 "metadata": {
  "kernelspec": {
   "display_name": "prolif",
   "language": "python",
   "name": "prolif"
  },
  "language_info": {
   "codemirror_mode": {
    "name": "ipython",
    "version": 3
   },
   "file_extension": ".py",
   "mimetype": "text/x-python",
   "name": "python",
   "nbconvert_exporter": "python",
   "pygments_lexer": "ipython3",
   "version": "3.8.0"
  },
  "orig_nbformat": 4,
  "vscode": {
   "interpreter": {
    "hash": "96436f40073403b92d0f6092870a4b0301a0bb0cd6de222383e9be5ad32e5880"
   }
  }
 },
 "nbformat": 4,
 "nbformat_minor": 2
}
