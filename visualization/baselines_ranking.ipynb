{
 "cells": [
  {
   "cell_type": "code",
   "execution_count": null,
   "id": "67544b07",
   "metadata": {},
   "outputs": [],
   "source": [
    "import os\n",
    "import numpy as np\n",
    "import pandas as pd\n",
    "from tqdm import tqdm\n"
   ]
  },
  {
   "cell_type": "code",
   "execution_count": null,
   "id": "9ec4357b",
   "metadata": {},
   "outputs": [],
   "source": [
    "\n",
    "import sys\n",
    "# from prody import *\n",
    "import pandas as pd\n",
    "from rdkit import Chem\n",
    "from rdkit.Chem import AllChem\n",
    "from io import StringIO\n",
    "import requests\n",
    "import seaborn as sns\n",
    "import matplotlib.pyplot as plt\n"
   ]
  },
  {
   "cell_type": "code",
   "execution_count": null,
   "id": "a96cf234",
   "metadata": {},
   "outputs": [],
   "source": [
    "def GetPandasDataROC(data):\n",
    "    name = []\n",
    "    efs = []\n",
    "    method = []\n",
    "    for col in data.columns:\n",
    "        name.extend([col]*len(data))\n",
    "        efs.extend(data[col].values)\n",
    "    efs_df = pd.DataFrame({'name':name,\n",
    "                        'efs':efs})\n",
    "    efs_df = efs_df.fillna(0.0)\n",
    "                        \n",
    "    return efs_df\n",
    "def GetPandasDataRef(data,ref_col = None,name = None):\n",
    "    names = []\n",
    "    efs = []\n",
    "    for col in data.columns:\n",
    "        if ref_col == col:\n",
    "            names.extend([name]*len(data))\n",
    "            efs.extend(data[col].values)\n",
    "    efs_df = pd.DataFrame({'name':names,\n",
    "                        'efs':efs})\n",
    "    efs_df = efs_df.fillna(0.0)\n",
    "                        \n",
    "    return efs_df"
   ]
  },
  {
   "cell_type": "code",
   "execution_count": null,
   "id": "631f9962",
   "metadata": {},
   "outputs": [],
   "source": [
    "\n",
    "excel_file = 'dud-e_results_bbaa070.xls'\n",
    "df = pd.read_excel(excel_file,sheet_name = None)\n",
    "\n",
    "\n",
    "glide_sp_sheets = []\n",
    "glide_sp_sheets_names = []\n",
    "for sheet_name, sheet_df in df.items():\n",
    "\n",
    "    if 'Glide_SP' in sheet_name and 'Glide_SP_LogAUC' != sheet_name and 'Glide_SP_EF0.1%' != sheet_name:\n",
    "        glide_sp_sheets.append(sheet_df[:-3])\n",
    "        glide_sp_sheets_names.append(sheet_name)\n",
    "        print(f'Sheet name: {sheet_name}')\n"
   ]
  },
  {
   "cell_type": "code",
   "execution_count": null,
   "id": "c7f37cb7",
   "metadata": {},
   "outputs": [],
   "source": [
    "sheet_df[:-3]"
   ]
  },
  {
   "cell_type": "code",
   "execution_count": null,
   "id": "66e66a58",
   "metadata": {},
   "outputs": [],
   "source": [
    "sheets_names = []\n",
    "all_baseline_df = []\n",
    "for sheet_name,sheet_df in zip(glide_sp_sheets_names,glide_sp_sheets):\n",
    "    sheet_df = sheet_df.drop('Target Name',axis = 1)\n",
    "    # print(sheet_name)\n",
    "    sheet_df = GetPandasDataROC(sheet_df)\n",
    "    paths = ['deepdock_dude.csv',\\\n",
    "            'DUDE_SP_EquiScore.xlsx',\\\n",
    "            'rtmscore_dude.csv',\\\n",
    "            'tankbind_dude.csv',\\\n",
    "            'rtmscore_noduplicated_with_pdbbind2020.csv',\\\n",
    "            'kdeep_dude.csv',\\\n",
    "            '3dgnn_DUDE.csv',\\\n",
    "            'pignet_DUDE.csv',\\\n",
    "            'tankbind_noduplicated_with_pdbbind2020.csv',\\\n",
    "            'deepdock_noduplicated_with_pdbbind2020.csv',\\\n",
    "            'kdeep_noduplicated_with_pdbbind2020.csv',\\\n",
    "            '3dgnn_noduplicated_with_pdbbind2020.csv',\\\n",
    "            'pignet_noduplicated_with_pdbbind2020.csv']\n",
    "    model_names = ['DeepDock','EquiScore','RTMscore','Tankbind','RTMscore*',\\\n",
    "                   'Kdeep','GNN-DTI','PIGNet','Tankbind*','DeepDock*','Kdeep*',\\\n",
    "                    'GNN-DTI*','PIGNet*']\n",
    "    my_dfs = []\n",
    "    for my_basline_name, my_baseline_path in zip(model_names,paths):\n",
    "        try:\n",
    "            my_df = pd.read_csv(my_baseline_path)\n",
    "        except:\n",
    "            my_df = pd.read_excel(my_baseline_path)\n",
    "        try:\n",
    "            if 'noduplicated' in my_baseline_path:\n",
    "                my_df.columns = ['target','EF0.1%','EF0.5%','EF1%','EF5%','EF10.0%',\\\n",
    "                            'EF50.0%','AUROC','LogAUROC','AUPRC','BEDROC','0.1%HIT','0.5%HIT',\\\n",
    "                                '1.0%HIT','5.0%HIT','10.0%HIT','50.0%HIT','dup']\n",
    "            else:\n",
    "\n",
    "                my_df.columns = ['target','EF0.1%','EF0.5%','EF1%','EF5%','EF10.0%',\\\n",
    "                            'EF50.0%','AUROC','LogAUROC','AUPRC','BEDROC','0.1%HIT','0.5%HIT',\\\n",
    "                                '1.0%HIT','5.0%HIT','10.0%HIT','50.0%HIT']\n",
    "        except Exception as e:\n",
    "            print(f'errors in {my_baseline_path} skip',e)\n",
    "        \n",
    "        \n",
    "        my_df = GetPandasDataRef(my_df,ref_col = sheet_name.split('_')[-1],name = my_basline_name)\n",
    "        my_dfs.append(my_df)\n",
    "    print(len(my_dfs))\n",
    "    my_dfs = pd.concat(my_dfs,axis = 0)\n",
    "    print(len(my_dfs))\n",
    "    sheets_names.append(sheet_name)\n",
    "    all_baseline_df.append(pd.concat([sheet_df,my_dfs],axis = 0))"
   ]
  },
  {
   "cell_type": "code",
   "execution_count": null,
   "id": "54b10565",
   "metadata": {},
   "outputs": [],
   "source": [
    "sheet_df[sheet_df['name'] == 'RFscore-VS']"
   ]
  },
  {
   "cell_type": "code",
   "execution_count": null,
   "id": "75da5f82",
   "metadata": {},
   "outputs": [],
   "source": [
    "sheets_names"
   ]
  },
  {
   "cell_type": "code",
   "execution_count": null,
   "id": "3b48fd14",
   "metadata": {},
   "outputs": [],
   "source": [
    "sheet_df = all_baseline_df[0]\n",
    "sheet_name = sheets_names[0]"
   ]
  },
  {
   "cell_type": "code",
   "execution_count": null,
   "id": "526e8b95",
   "metadata": {},
   "outputs": [],
   "source": [
    "orders = sheet_df.groupby('name').agg(np.mean).reset_index().sort_values('efs',ascending = False).name.to_list()"
   ]
  },
  {
   "cell_type": "code",
   "execution_count": null,
   "id": "16dbe98e",
   "metadata": {},
   "outputs": [],
   "source": [
    "sheet_df.groupby('name').agg(np.mean).reset_index().sort_values('efs',ascending = False)"
   ]
  },
  {
   "cell_type": "code",
   "execution_count": null,
   "id": "dac7f33d",
   "metadata": {},
   "outputs": [],
   "source": [
    "import seaborn as sns\n",
    "import matplotlib.pyplot as plt\n",
    "\n",
    "for sheet_name ,sheet_df in zip(sheets_names,all_baseline_df):\n",
    "       sheet_df = sheet_df[sheet_df['name'] != 'RFscore-VS']\n",
    "       orders = sheet_df.groupby('name').agg(np.mean).reset_index().sort_values('efs',ascending = False).name.to_list()\n",
    "       mean_order_df = sheet_df.groupby('name').agg(np.mean).reset_index().sort_values('efs',ascending = False)\n",
    "       mean_order_df.to_csv('/result_ladder_figs/dude1/glideSP/{}.csv'.format(sheet_name.split('_')[-1]))\n",
    "       sns.set_theme(style=\"ticks\", )\n",
    "       f, ax = plt.subplots(figsize=(5, 7))\n",
    "       sns.boxplot(x=\"efs\", y=\"name\", data=sheet_df,palette=\"Spectral\",\n",
    "              whis=[5, 99], width=.6,order = orders,showmeans=True,meanprops={\"marker\":\"^\",\n",
    "                            \"markerfacecolor\":\"white\", \n",
    "                            \"markeredgecolor\":\"blue\",\n",
    "                            \"markersize\":\"5\"},fliersize = '2')\n",
    "       ax.xaxis.grid(True)\n",
    "       ax.set(xlim=(sheet_df['efs'].min() -1 if sheet_df['efs'].max() > 5 else sheet_df['efs'].min() - 0.05 , sheet_df['efs'].max()), ylabel=\"\",\n",
    "              xlabel=\"%s\"%sheet_name,)\n",
    "       plt.tight_layout()\n",
    "       plt.savefig('/result_ladder_figs/dude1/glideSP/{}.png'.format(sheet_name.split('_')[-1]),dpi=660,format='png')"
   ]
  },
  {
   "attachments": {},
   "cell_type": "markdown",
   "id": "11aa967a",
   "metadata": {},
   "source": []
  }
 ],
 "metadata": {
  "kernelspec": {
   "display_name": "prolif",
   "language": "python",
   "name": "python3"
  },
  "language_info": {
   "codemirror_mode": {
    "name": "ipython",
    "version": 3
   },
   "file_extension": ".py",
   "mimetype": "text/x-python",
   "name": "python",
   "nbconvert_exporter": "python",
   "pygments_lexer": "ipython3",
   "version": "3.8.0"
  }
 },
 "nbformat": 4,
 "nbformat_minor": 5
}
