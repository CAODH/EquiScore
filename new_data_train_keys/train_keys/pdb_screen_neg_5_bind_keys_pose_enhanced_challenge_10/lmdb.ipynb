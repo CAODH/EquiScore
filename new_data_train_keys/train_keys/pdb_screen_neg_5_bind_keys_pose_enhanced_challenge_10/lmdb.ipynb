{
 "cells": [
  {
   "cell_type": "code",
   "execution_count": 1,
   "metadata": {},
   "outputs": [
    {
     "name": "stderr",
     "output_type": "stream",
     "text": [
      "/home/caoduanhua/anaconda3/envs/prolif/lib/python3.8/site-packages/tqdm/auto.py:22: TqdmWarning: IProgress not found. Please update jupyter and ipywidgets. See https://ipywidgets.readthedocs.io/en/stable/user_install.html\n",
      "  from .autonotebook import tqdm as notebook_tqdm\n"
     ]
    }
   ],
   "source": [
    "'''save data to lmdb database'''\n",
    "import lmdb\n",
    "import pandas as pd\n",
    "import torch \n",
    "import rdkit\n",
    "from  tqdm import tqdm\n",
    "from torch.utils.data import Dataset\n",
    "from torch.utils.data.sampler import Sampler\n",
    "\n",
    "import numpy as np\n",
    "import torch\n",
    "import random\n",
    "from rdkit import Chem\n",
    "from scipy.spatial import distance_matrix\n",
    "from rdkit.Chem.rdmolops import GetAdjacencyMatrix\n",
    "import pickle\n",
    "import dgl\n",
    "import dgl.data"
   ]
  },
  {
   "cell_type": "code",
   "execution_count": 3,
   "metadata": {},
   "outputs": [],
   "source": [
    "# key = '/home/caoduanhua/score_function/data/general_refineset/pdbbind-shape_decoy_align_pocket-5/5vsb_ligand_align_3'\n",
    "# # try:\n",
    "# try:\n",
    "#     with open(key, 'rb') as f:\n",
    "#         m1,m2= pickle.load(f)\n",
    "#     # f.close()\n",
    "#     # txn.put(key.encode(), pickle.dumps(m1,m2), db=mol_pocket_inter_idx_type_db)\n",
    "# except:\n",
    "#     with open(key, 'rb') as f:\n",
    "#         m1,m2,atompairs,iter_types= pickle.load(f)\n",
    "#         # f.close()\n",
    "#         # txn.put(key.encode(), pickle.dumps(m1,m2,atompairs,iter_types), db=mol_pocket_inter_idx_type_db)\n",
    "# # except:\n",
    "# #     print('file: {} is not a valid file!'.format(key))"
   ]
  },
  {
   "cell_type": "code",
   "execution_count": 4,
   "metadata": {},
   "outputs": [
    {
     "name": "stdout",
     "output_type": "stream",
     "text": [
      "len of keys 449125\n"
     ]
    },
    {
     "name": "stderr",
     "output_type": "stream",
     "text": [
      "processing 329429/449125:  74%|███████▍  | 333305/449125 [25:16<08:11, 235.70it/s] "
     ]
    },
    {
     "name": "stdout",
     "output_type": "stream",
     "text": [
      "file: /home/caoduanhua/score_function/data/D-PDBbind_PDBscreen/PDB_bind_cross_decoy_pocket/4o43_decoy_2zdl_0 is not a valid file!\n"
     ]
    },
    {
     "name": "stderr",
     "output_type": "stream",
     "text": [
      "processing 449125/449125: 100%|██████████| 449125/449125 [35:05<00:00, 213.30it/s]\n"
     ]
    }
   ],
   "source": [
    "import tqdm\n",
    "# 创建数据库文件\n",
    "env = lmdb.open(f'/home/caoduanhua/score_function/data/lmdbs/pose_challenge_cross_10', map_size=int(1e12), max_dbs=1)\n",
    "# 创建对应的数据库\n",
    "# mol_pocket_inter_idx_type = env.open_db('mol_pocket_interIdx_type'.encode())\n",
    "mol_pocket_inter_idx_type_db = env.open_db('data'.encode())\n",
    "# 把数据写入到LMDB中\n",
    "\n",
    "with open ('./train_keys.pkl', 'rb') as fp:\n",
    "    train_keys = pickle.load(fp)\n",
    "with open ('./val_keys.pkl', 'rb') as fp:\n",
    "    val_keys = pickle.load(fp)\n",
    "with open ('./test_keys.pkl', 'rb') as fp:\n",
    "    test_keys = pickle.load(fp)\n",
    "\n",
    "keys = test_keys + val_keys + train_keys\n",
    "print('len of keys',len(keys))\n",
    "all_keys = len(keys)\n",
    "pbar = tqdm.tqdm(keys)\n",
    "with env.begin(write=True) as txn:\n",
    "    for i ,key in enumerate(pbar):\n",
    "        try:\n",
    "            try:\n",
    "                with open(key, 'rb') as f:\n",
    "                    m1,m2= pickle.load(f)\n",
    "                # f.close()\n",
    "                txn.put(key.encode(), pickle.dumps((m1,m2)), db=mol_pocket_inter_idx_type_db)\n",
    "            except:\n",
    "                with open(key, 'rb') as f:\n",
    "                    m1,m2,atompairs,iter_types= pickle.load(f)\n",
    "                # f.close()\n",
    "                txn.put(key.encode(), pickle.dumps((m1,m2,atompairs,iter_types)), db=mol_pocket_inter_idx_type_db)\n",
    "        except:\n",
    "            print('file: {} is not a valid file!'.format(key))\n",
    "            continue\n",
    "        pbar.update()\n",
    "        pbar.set_description(f'processing {i+1}/{all_keys}')\n",
    "env.close()\n",
    "\n"
   ]
  },
  {
   "cell_type": "code",
   "execution_count": 23,
   "metadata": {},
   "outputs": [
    {
     "ename": "TypeError",
     "evalue": "a bytes-like object is required, not 'NoneType'",
     "output_type": "error",
     "traceback": [
      "\u001b[0;31m---------------------------------------------------------------------------\u001b[0m",
      "\u001b[0;31mTypeError\u001b[0m                                 Traceback (most recent call last)",
      "\u001b[1;32m/home/caoduanhua/score_function/GNN/GNN_graphformer_pyg/new_data_train_keys/train_keys/pdb_screen_neg_5_bind_keys_pose_enhanced_challenge/lmdb.ipynb Cell 4\u001b[0m in \u001b[0;36m<cell line: 7>\u001b[0;34m()\u001b[0m\n\u001b[1;32m      <a href='vscode-notebook-cell://ssh-remote%2B172.21.8.35/home/caoduanhua/score_function/GNN/GNN_graphformer_pyg/new_data_train_keys/train_keys/pdb_screen_neg_5_bind_keys_pose_enhanced_challenge/lmdb.ipynb#ch0000002vscode-remote?line=4'>5</a>\u001b[0m \u001b[39m# try:\u001b[39;00m\n\u001b[1;32m      <a href='vscode-notebook-cell://ssh-remote%2B172.21.8.35/home/caoduanhua/score_function/GNN/GNN_graphformer_pyg/new_data_train_keys/train_keys/pdb_screen_neg_5_bind_keys_pose_enhanced_challenge/lmdb.ipynb#ch0000002vscode-remote?line=6'>7</a>\u001b[0m \u001b[39mwith\u001b[39;00m env\u001b[39m.\u001b[39mbegin(write\u001b[39m=\u001b[39m\u001b[39mFalse\u001b[39;00m) \u001b[39mas\u001b[39;00m txn:\n\u001b[0;32m----> <a href='vscode-notebook-cell://ssh-remote%2B172.21.8.35/home/caoduanhua/score_function/GNN/GNN_graphformer_pyg/new_data_train_keys/train_keys/pdb_screen_neg_5_bind_keys_pose_enhanced_challenge/lmdb.ipynb#ch0000002vscode-remote?line=7'>8</a>\u001b[0m     m1,m2, atompairs,iter_types,_\u001b[39m=\u001b[39m pickle\u001b[39m.\u001b[39;49mloads(txn\u001b[39m.\u001b[39;49mget(key\u001b[39m.\u001b[39;49mencode(), db\u001b[39m=\u001b[39;49mgraph_db))\n",
      "\u001b[0;31mTypeError\u001b[0m: a bytes-like object is required, not 'NoneType'"
     ]
    }
   ],
   "source": [
    "env = lmdb.open(f'/home/caoduanhua/score_function/data/lmdbs/pose_challenge_cross', map_size=int(1e12), max_dbs=1, readonly=True)\n",
    "\n",
    "graph_db = env.open_db('data'.encode()) # graph data base\n",
    "key = keys[0] + 'bnm'\n",
    "# try:\n",
    "\n",
    "with env.begin(write=False) as txn:\n",
    "    m1,m2, atompairs,iter_types,_= pickle.loads(txn.get(key.encode(), db=graph_db))\n",
    "# except:\n",
    "    # print('not in database plz to processcing')\n",
    "    # pass"
   ]
  },
  {
   "cell_type": "code",
   "execution_count": 18,
   "metadata": {},
   "outputs": [
    {
     "data": {
      "text/plain": [
       "['Hydrophobic',\n",
       " 'Hydrophobic',\n",
       " 'Hydrophobic',\n",
       " 'Hydrophobic',\n",
       " 'Hydrophobic',\n",
       " 'Hydrophobic',\n",
       " 'Hydrophobic',\n",
       " 'Hydrophobic',\n",
       " 'Hydrophobic',\n",
       " 'Hydrophobic']"
      ]
     },
     "execution_count": 18,
     "metadata": {},
     "output_type": "execute_result"
    }
   ],
   "source": []
  },
  {
   "cell_type": "code",
   "execution_count": null,
   "metadata": {},
   "outputs": [],
   "source": [
    "try:\n",
    "    m1,m2, atompairs,iter_types= pickle.loads(txn.get(key.encode(), db=graph_db))\n",
    "    # pass\n",
    "except ValueError:\n",
    "    m1,m2= pickle.loads(txn.get(key.encode(), db=graph_db))\n",
    "    # pass\n",
    "except TypeError:\n",
    "    pass\n",
    "\n",
    "finally:\n",
    "\n",
    "\n"
   ]
  }
 ],
 "metadata": {
  "kernelspec": {
   "display_name": "Python 3.8.0 ('prolif')",
   "language": "python",
   "name": "python3"
  },
  "language_info": {
   "codemirror_mode": {
    "name": "ipython",
    "version": 3
   },
   "file_extension": ".py",
   "mimetype": "text/x-python",
   "name": "python",
   "nbconvert_exporter": "python",
   "pygments_lexer": "ipython3",
   "version": "3.8.0"
  },
  "orig_nbformat": 4,
  "vscode": {
   "interpreter": {
    "hash": "96436f40073403b92d0f6092870a4b0301a0bb0cd6de222383e9be5ad32e5880"
   }
  }
 },
 "nbformat": 4,
 "nbformat_minor": 2
}
