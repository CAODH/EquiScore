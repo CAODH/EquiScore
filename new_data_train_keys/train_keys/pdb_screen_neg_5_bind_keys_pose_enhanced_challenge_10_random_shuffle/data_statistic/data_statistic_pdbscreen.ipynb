{
 "cells": [
  {
   "cell_type": "code",
   "execution_count": 2,
   "metadata": {},
   "outputs": [],
   "source": [
    "import pickle\n",
    "from collections import OrderedDict\n",
    "import random\n",
    "import glob\n",
    "import numpy as np\n",
    "import os\n",
    "random.seed(0)\n",
    "from collections import defaultdict,Counter\n",
    "\n",
    "'''\n",
    "only add pose < 2A  , which pdb id in training \n",
    "add challenge decoys to active samples\n",
    "'''\n",
    "\n",
    "def filter_targets(file_paths,targets):\n",
    "    filtered_keys = []\n",
    "    for name in file_paths:\n",
    "        if name.split('/')[-1].split('_')[0] in targets:\n",
    "            filtered_keys.append(name)\n",
    "    return filtered_keys\n",
    "def get_part_data(data_dir,names,fast_num = 5,active_names = None):\n",
    "    # data_name = []\n",
    "    pro_decoy_pro = defaultdict(list)\n",
    "    for i in names:\n",
    "        pro = i.split('_')[0]\n",
    "        if active_names is None:\n",
    "            pro_decoy_pro[pro].append(i)\n",
    "        else:\n",
    "            if pro in active_names:\n",
    "                pro_decoy_pro[pro].append(i)\n",
    "\n",
    "    pro_decoy_pro_5 = defaultdict(list)\n",
    "    for key in pro_decoy_pro.keys():\n",
    "        if len(pro_decoy_pro[key]) <= fast_num:\n",
    "            # print(key)\n",
    "\n",
    "            pro_decoy_pro_5[key] = pro_decoy_pro[key]\n",
    "        else:\n",
    "            pro_decoy_pro_5[key] =pro_decoy_pro[key][:fast_num]\n",
    "    pro_decoy_pro_5 = sum(pro_decoy_pro_5.values(),[])\n",
    "    print('mean of actives : decoys in cross_decoys',np.mean(list(dict(Counter([i.split('_')[2] for i in pro_decoy_pro_5])).values())))\n",
    "    return [data_dir + name for name in pro_decoy_pro_5]\n",
    "def get_part_data_screen_pose(data_dir,names,fast_num = 5,active_names = None):\n",
    "    # data_name = []\n",
    "    pro_decoy_pro = defaultdict(list)\n",
    "    for i in names:\n",
    "        pro = i.split('_active')[0]\n",
    "        if active_names is None:\n",
    "            pro_decoy_pro[pro].append(i)\n",
    "        else:\n",
    "            # flag = pro.split('_')[0] + '_' + pro.split('_')[1]\n",
    "            if pro in active_names:\n",
    "                pro_decoy_pro[pro].append(i)\n",
    "\n",
    "    pro_decoy_pro_5 = defaultdict(list)\n",
    "    # print(' pro_decoy_pro_5',len( pro_decoy_pro_5))\n",
    "    for key in pro_decoy_pro.keys():\n",
    "        if len(pro_decoy_pro[key]) <= fast_num:\n",
    "            # print(key)\n",
    "\n",
    "            pro_decoy_pro_5[key] = pro_decoy_pro[key]\n",
    "        else:\n",
    "            pro_decoy_pro_5[key] =pro_decoy_pro[key][:fast_num]\n",
    "    pro_decoy_pro_5 = sum(pro_decoy_pro_5.values(),[])\n",
    "    print('mean of actives : decoys in cross_decoys',np.mean(list(dict(Counter([i.split('_')[2] for i in pro_decoy_pro_5])).values())))\n",
    "    # print('all decoy ',len(pro_decoy_pro_5)/len(active_names))\n",
    "    return [data_dir + name for name in pro_decoy_pro_5]\n",
    "def get_part_data_screen(data_dir,names,fast_num = 5,active_names = None):\n",
    "    # data_name = []\n",
    "    pro_decoy_pro = defaultdict(list)\n",
    "    for i in names:\n",
    "        pro = i.split('-')[0]\n",
    "        if active_names is None:\n",
    "            pro_decoy_pro[pro].append(i)\n",
    "        else:\n",
    "            if pro in active_names:\n",
    "                pro_decoy_pro[pro].append(i)\n",
    "\n",
    "    pro_decoy_pro_5 = defaultdict(list)\n",
    "    # print(' pro_decoy_pro_5',len( pro_decoy_pro_5))\n",
    "    for key in pro_decoy_pro.keys():\n",
    "        if len(pro_decoy_pro[key]) <= fast_num:\n",
    "            # print(key)\n",
    "\n",
    "            pro_decoy_pro_5[key] = pro_decoy_pro[key]\n",
    "        else:\n",
    "            pro_decoy_pro_5[key] =pro_decoy_pro[key][:fast_num]\n",
    "    pro_decoy_pro_5 = sum(pro_decoy_pro_5.values(),[])\n",
    "    print('mean of actives : decoys in cross_decoys',np.mean(list(dict(Counter([i.split('_')[2].split('-')[1] for i in pro_decoy_pro_5])).values())))\n",
    "    # print('all decoy ',len(pro_decoy_pro_5)/len(active_names))\n",
    "    return [data_dir + name for name in pro_decoy_pro_5]\n",
    "#------------------------------------------------------"
   ]
  },
  {
   "cell_type": "code",
   "execution_count": 3,
   "metadata": {},
   "outputs": [],
   "source": [
    "import pickle\n",
    "def select_uniport_for_val(eight_class_remove_duplicated,uniport_to_pdb_dict,rate = 0.12,seed = 42):\n",
    "    np.random.seed(seed)\n",
    "    val_uniport_ids = []\n",
    "    val_uniport_pdb_ids =[]\n",
    "    for uniport_set in eight_class_remove_duplicated:\n",
    "        uniport_set = list(uniport_set)\n",
    "        size = int(rate*len(uniport_set))\n",
    "        val_uniport_ids.extend(np.random.choice(uniport_set,size = size))\n",
    "    for uniport_id in val_uniport_ids:\n",
    "\n",
    "        val_uniport_pdb_ids.extend(uniport_to_pdb_dict[uniport_id])\n",
    "    return val_uniport_ids,val_uniport_pdb_ids"
   ]
  },
  {
   "cell_type": "code",
   "execution_count": 13,
   "metadata": {},
   "outputs": [
    {
     "name": "stdout",
     "output_type": "stream",
     "text": [
      "pdb screen actives pros : 10245\n"
     ]
    }
   ],
   "source": [
    "import pickle\n",
    "with open('/home/caoduanhua/score_function/data/pdb_screen/score_bins_name_file/pdbscreen_active_5_2.pkl','rb') as f:\n",
    "    data_names = pickle.load(f)\n",
    "data_names = [i.split('.')[0].replace('_active','') for i in data_names]\n",
    "\n",
    "valid_keys_screen = glob.glob('/home/caoduanhua/score_function/data/D-PDBbind_PDBscreen/PDB_screen_active_-5_pocket/*')\n",
    "# 过滤\n",
    "\n",
    "valid_keys_screen = [ i for i in valid_keys_screen if i.split('/')[-1].replace('_active_0','') in data_names]\n",
    "active_pros_screen = set([v.split('/')[-1].replace('_active_0','') for v in valid_keys_screen])\n",
    "\n",
    "print('pdb screen actives pros :',len(active_pros_screen))"
   ]
  },
  {
   "cell_type": "code",
   "execution_count": 8,
   "metadata": {},
   "outputs": [
    {
     "name": "stdout",
     "output_type": "stream",
     "text": [
      "cross_decoys_pros : 11377\n",
      "mean of actives : decoys in cross_decoys 6.126825425680179\n",
      " pdd screen len of decoys:  101111\n"
     ]
    }
   ],
   "source": [
    "cross_decoys_screen= os.listdir('/home/caoduanhua/score_function/data/D-PDBbind_PDBscreen/PDB_screen_cross_decoy_pocket/')\n",
    "\n",
    "cross_decoys_pros_screen = set([v.split('-')[0] for v in cross_decoys_screen])\n",
    "\n",
    "print('cross_decoys_pros :',len(cross_decoys_pros_screen))\n",
    "cross_decoys_dir_screen = '/home/caoduanhua/score_function/data/D-PDBbind_PDBscreen/PDB_screen_cross_decoy_pocket/'\n",
    "cross_decys_screen = get_part_data_screen(cross_decoys_dir_screen,cross_decoys_screen,fast_num=10,active_names = active_pros_screen)\n",
    "\n",
    "print(' pdd screen len of decoys: ',len(cross_decys_screen))"
   ]
  },
  {
   "cell_type": "code",
   "execution_count": 16,
   "metadata": {},
   "outputs": [
    {
     "name": "stdout",
     "output_type": "stream",
     "text": [
      "mean of actives : decoys in cross_decoys 27848.0\n",
      "pose enhanced screen samples:  38093\n",
      "screen pose pros:  8584\n"
     ]
    }
   ],
   "source": [
    "#-------------------------------------------------------------------------------\n",
    "cross_decoys_dir_screen_pose = '/home/caoduanhua/score_function/data/pdb_screen/pdb_sceen_active_2a_4_pocket/'\n",
    "screen_poses = os.listdir('/home/caoduanhua/score_function/data/pdb_screen/pdb_sceen_active_2a_4_pocket/')\n",
    "active_pros_screen = [i.split('_')[0] + '_' +  i.split('_')[2] for i in active_pros_screen]\n",
    "valid_screen_poses = get_part_data_screen_pose(cross_decoys_dir_screen_pose,screen_poses,fast_num=100,active_names =active_pros_screen)\n",
    "\n",
    "print('pose enhanced screen samples: ',len( valid_keys_screen + valid_screen_poses))\n",
    "print('screen pose pros: ',len(set([i.split('/')[-1].split('_')[0] for i in valid_screen_poses])))\n",
    "\n"
   ]
  },
  {
   "cell_type": "code",
   "execution_count": 10,
   "metadata": {},
   "outputs": [
    {
     "name": "stdout",
     "output_type": "stream",
     "text": [
      " all pdb screen len of shape decoys :  84994\n",
      " pdb screen len of shape decoys  remove sp score>-5:  50196\n",
      " last pdb screen len of shape decoys :  41768\n"
     ]
    }
   ],
   "source": [
    "########################################################### challenge decoys ##################\n",
    "valid_keys_screen_shape = glob.glob('/home/caoduanhua/score_function/data/pdb_screen/screen_shape_pocket/*')\n",
    "print(' all pdb screen len of shape decoys : ',len(valid_keys_screen_shape))\n",
    "# remove sp score > -5\n",
    "data_names = [i.split('_')[0] + '_' +  i.split('_')[2] for i in data_names]\n",
    "valid_keys_screen_shape = [i for i in valid_keys_screen_shape if i.split('/')[-1].split('_align')[0] in data_names]\n",
    "print(' pdb screen len of shape decoys  remove sp score>-5: ',len(valid_keys_screen_shape))\n",
    "valid_keys_screen_shape = [i for i in valid_keys_screen_shape if i.split('/')[-1].split('_align')[0] in active_pros_screen]\n",
    "\n",
    "print(' last pdb screen len of shape decoys : ',len(valid_keys_screen_shape))\n",
    "\n",
    "\n"
   ]
  },
  {
   "cell_type": "code",
   "execution_count": 12,
   "metadata": {},
   "outputs": [
    {
     "name": "stdout",
     "output_type": "stream",
     "text": [
      "duplicated tragets:  6745\n",
      "len of the before remove duplicated target:  9675\n",
      "len of the after remove duplicated target:  8174\n",
      "remove done!\n"
     ]
    }
   ],
   "source": [
    "with open('/home/caoduanhua/score_function/data/uniport_analysis/duplicated_with_independent_pdb_ids_from_uniport_id/all_dulicatedpdb_ids.pkl','rb') as f:\n",
    "    duplicated_targets = pickle.load(f)\n",
    "    print('duplicated tragets: ',len(duplicated_targets))\n",
    "dude_gene =  set(OrderedDict.fromkeys([v.split('/')[-1].split('_')[0] for v in active_pros_screen]))\n",
    "print('len of the before remove duplicated target: ',len(dude_gene))\n",
    "dude_gene = dude_gene - duplicated_targets\n",
    "print('len of the after remove duplicated target: ',len(dude_gene))\n",
    "print('remove done!')\n",
    "#-----------------------------------------------------------------------"
   ]
  },
  {
   "cell_type": "code",
   "execution_count": 15,
   "metadata": {},
   "outputs": [
    {
     "data": {
      "text/plain": [
       "'5dc5_chain(a)_b3n'"
      ]
     },
     "execution_count": 15,
     "metadata": {},
     "output_type": "execute_result"
    }
   ],
   "source": [
    "list(active_pros_screen)[0]"
   ]
  },
  {
   "cell_type": "code",
   "execution_count": 19,
   "metadata": {},
   "outputs": [
    {
     "name": "stdout",
     "output_type": "stream",
     "text": [
      "len of of corss-docking deduplicated:  34101\n"
     ]
    }
   ],
   "source": [
    "all_active = valid_keys_screen + valid_screen_poses\n",
    "print('len of of corss-docking deduplicated: ',len([k for k in valid_keys_screen_shape  if k.split('/')[-1].split('_')[0] in dude_gene]))"
   ]
  },
  {
   "cell_type": "code",
   "execution_count": 20,
   "metadata": {},
   "outputs": [
    {
     "data": {
      "text/plain": [
       "344852"
      ]
     },
     "execution_count": 20,
     "metadata": {},
     "output_type": "execute_result"
    }
   ],
   "source": [
    "39519 +32182 + 106053 + 85067 + 47930 + 34101"
   ]
  },
  {
   "cell_type": "code",
   "execution_count": 21,
   "metadata": {},
   "outputs": [
    {
     "data": {
      "text/plain": [
       "344919"
      ]
     },
     "execution_count": 21,
     "metadata": {},
     "output_type": "execute_result"
    }
   ],
   "source": [
    "310578 + 34341"
   ]
  },
  {
   "cell_type": "code",
   "execution_count": null,
   "metadata": {},
   "outputs": [],
   "source": []
  }
 ],
 "metadata": {
  "kernelspec": {
   "display_name": "Python 3.8.0 ('prolif': conda)",
   "language": "python",
   "name": "python3"
  },
  "language_info": {
   "codemirror_mode": {
    "name": "ipython",
    "version": 3
   },
   "file_extension": ".py",
   "mimetype": "text/x-python",
   "name": "python",
   "nbconvert_exporter": "python",
   "pygments_lexer": "ipython3",
   "version": "3.8.0"
  },
  "orig_nbformat": 4,
  "vscode": {
   "interpreter": {
    "hash": "96436f40073403b92d0f6092870a4b0301a0bb0cd6de222383e9be5ad32e5880"
   }
  }
 },
 "nbformat": 4,
 "nbformat_minor": 2
}
