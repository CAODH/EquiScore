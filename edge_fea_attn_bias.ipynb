{
 "cells": [
  {
   "cell_type": "code",
   "execution_count": 1,
   "metadata": {},
   "outputs": [],
   "source": [
    "import pickle\n",
    "# import optuna\n",
    "# from optuna.trial import TrialState\n",
    "from gnn import gnn\n",
    "import time\n",
    "import numpy as np\n",
    "import utils\n",
    "from utils import *\n",
    "import torch.nn as nn\n",
    "import torch\n",
    "import time\n",
    "import os\n",
    "os.environ['CUDA_LAUNCH_BLOCKING']='1'\n",
    "# os.envirment[]\n",
    "from collections import defaultdict\n",
    "import argparse\n",
    "import time\n",
    "from torch.utils.data import DataLoader          \n",
    "# from torch.utils.data import DataLoader\n",
    "from prefetch_generator import BackgroundGenerator"
   ]
  },
  {
   "cell_type": "code",
   "execution_count": 2,
   "metadata": {},
   "outputs": [],
   "source": [
    "sample_path = '/home/caoduanhua/score_function/data/general_refineset/refineset_active_pocket_without_h/1a4k_ligand_active_0'\n",
    "# sample = \n",
    "with  open(sample_path,'rb') as f:\n",
    "    m1,m2 = pickle.load(f)"
   ]
  },
  {
   "cell_type": "code",
   "execution_count": 4,
   "metadata": {},
   "outputs": [],
   "source": [
    "n1,d1,adj1 = utils.get_mol_info(m1)"
   ]
  },
  {
   "cell_type": "code",
   "execution_count": 6,
   "metadata": {},
   "outputs": [],
   "source": [
    "dis_matrix = distance_matrix(d1,d1)"
   ]
  },
  {
   "cell_type": "code",
   "execution_count": 19,
   "metadata": {},
   "outputs": [
    {
     "data": {
      "text/plain": [
       "13.332570745213385"
      ]
     },
     "execution_count": 19,
     "metadata": {},
     "output_type": "execute_result"
    }
   ],
   "source": [
    "dis_matrix.max()"
   ]
  },
  {
   "cell_type": "code",
   "execution_count": 37,
   "metadata": {},
   "outputs": [
    {
     "data": {
      "text/plain": [
       "19"
      ]
     },
     "execution_count": 37,
     "metadata": {},
     "output_type": "execute_result"
    }
   ],
   "source": [
    "# np.linspace(0,8,17)\n",
    "labels = [i for i in range(len(bins)) ]\n",
    "# labels\n",
    "len(bins)"
   ]
  },
  {
   "cell_type": "code",
   "execution_count": 59,
   "metadata": {},
   "outputs": [
    {
     "data": {
      "text/plain": [
       "0.031006917337733947"
      ]
     },
     "execution_count": 59,
     "metadata": {},
     "output_type": "execute_result"
    }
   ],
   "source": [
    "np.random.laplace(0.001994, 0.031939)"
   ]
  },
  {
   "cell_type": "code",
   "execution_count": 67,
   "metadata": {},
   "outputs": [
    {
     "data": {
      "text/plain": [
       "array([2.5 , 2.55, 2.6 , 2.65, 2.7 , 2.75, 2.8 , 2.85, 2.9 , 2.95, 3.  ,\n",
       "       3.05, 3.1 , 3.15, 3.2 , 3.25, 3.3 , 3.35, 3.4 , 3.45, 3.5 , 3.55,\n",
       "       3.6 , 3.65, 3.7 , 3.75, 3.8 , 3.85, 3.9 , 3.95, 4.  , 4.05, 4.1 ,\n",
       "       4.15, 4.2 , 4.25, 4.3 , 4.35, 4.4 , 4.45, 4.5 , 4.55, 4.6 , 4.65,\n",
       "       4.7 , 4.75, 4.8 , 4.85, 4.9 , 4.95, 5.  ])"
      ]
     },
     "execution_count": 67,
     "metadata": {},
     "output_type": "execute_result"
    }
   ],
   "source": [
    "8/0.005\n",
    "\n",
    "np.linspace(2.5,5,51)"
   ]
  },
  {
   "cell_type": "code",
   "execution_count": 81,
   "metadata": {},
   "outputs": [
    {
     "data": {
      "text/plain": [
       "61.0"
      ]
     },
     "execution_count": 81,
     "metadata": {},
     "output_type": "execute_result"
    }
   ],
   "source": [
    "(5-2.0)/0.05 + 1"
   ]
  },
  {
   "cell_type": "code",
   "execution_count": 95,
   "metadata": {},
   "outputs": [],
   "source": [
    "import pandas as pd\n",
    "import numpy as np\n",
    "def pandas_bins(dis_matrix,num_bins = None,noise = False):\n",
    "    if num_bins is None:\n",
    "        num_bins = int((5-2.0)/0.05 + 1)\n",
    "    if noise:\n",
    "        t = np.random.laplace(0.001, 0.05)\n",
    "        dis_matrix += t\n",
    "    bins = [-1.0] + list(np.linspace(2.0,5,num_bins)) + [10000]\n",
    "    shape = dis_matrix.shape\n",
    "    bins_index = np.array(pd.cut(dis_matrix.flatten(),bins = bins,labels = [i for i in range(len(bins) -1)])).reshape(shape)\n",
    "    return bins_index\n"
   ]
  },
  {
   "cell_type": "code",
   "execution_count": 96,
   "metadata": {},
   "outputs": [
    {
     "data": {
      "text/plain": [
       "array([[ 0,  0, 13, 14, 41, 60, 61, 61, 61, 54, 61, 61, 61, 61, 61, 61,\n",
       "        61, 61, 61, 61, 61, 61, 61, 61, 61, 61, 61, 61, 61, 61, 61],\n",
       "       [ 0,  0,  0,  0, 14, 35, 59, 61, 53, 27, 61, 61, 61, 61, 61, 61,\n",
       "        61, 61, 61, 61, 61, 61, 61, 61, 61, 61, 61, 61, 61, 61, 61],\n",
       "       [13,  0,  0, 11, 22, 43, 61, 61, 51, 28, 61, 61, 61, 61, 61, 61,\n",
       "        61, 61, 61, 61, 61, 61, 61, 61, 61, 61, 61, 61, 61, 61, 61],\n",
       "       [14,  0, 11,  0,  0, 14, 39, 49, 39, 14, 61, 61, 61, 61, 61, 61,\n",
       "        61, 61, 61, 61, 61, 61, 61, 61, 61, 61, 61, 61, 61, 61, 61],\n",
       "       [41, 14, 22,  0,  0,  0, 14, 21, 14,  0, 49, 61, 61, 61, 61, 61,\n",
       "        61, 61, 61, 61, 61, 61, 61, 61, 61, 61, 61, 61, 61, 61, 61],\n",
       "       [60, 35, 43, 14,  0,  0,  0, 14, 21, 14, 40, 59, 61, 61, 54, 61,\n",
       "        54, 61, 61, 61, 61, 61, 61, 61, 61, 61, 61, 61, 61, 61, 61],\n",
       "       [61, 59, 61, 39, 14,  0,  0,  0, 14, 21, 14, 35, 59, 55, 28, 44,\n",
       "        30, 61, 61, 61, 61, 61, 61, 61, 61, 61, 61, 61, 61, 61, 61],\n",
       "       [61, 61, 61, 49, 21, 14,  0,  0,  0, 14,  0, 14, 40, 40, 14, 23,\n",
       "        23, 61, 60, 61, 61, 61, 61, 61, 61, 61, 61, 61, 61, 61, 61],\n",
       "       [61, 53, 51, 39, 14, 21, 14,  0,  0,  0, 14, 27, 54, 59, 36, 28,\n",
       "        44, 61, 61, 61, 61, 61, 61, 61, 61, 61, 61, 61, 61, 61, 61],\n",
       "       [54, 27, 28, 14,  0, 14, 21, 14,  0,  0, 40, 53, 61, 61, 60, 51,\n",
       "        61, 61, 61, 61, 61, 61, 61, 61, 61, 61, 61, 61, 61, 61, 61],\n",
       "       [61, 61, 61, 61, 49, 40, 14,  0, 14, 40,  0,  0, 12, 12,  0, 12,\n",
       "        12, 36, 38, 41, 60, 59, 38, 53, 61, 61, 61, 61, 61, 61, 61],\n",
       "       [61, 61, 61, 61, 61, 59, 35, 14, 27, 53,  0,  0,  0, 13, 11,  0,\n",
       "        35, 18, 29, 41, 52, 44, 39, 61, 61, 61, 61, 61, 61, 61, 61],\n",
       "       [61, 61, 61, 61, 61, 61, 59, 40, 54, 61, 12,  0,  0,  0, 14, 14,\n",
       "        37,  0, 17, 26, 24, 16, 17, 42, 56, 56, 61, 61, 61, 61, 61],\n",
       "       [61, 61, 61, 61, 61, 61, 55, 40, 59, 61, 12, 13,  0,  0,  0, 37,\n",
       "        14, 16, 25, 16, 16, 25,  0, 16, 28, 30, 49, 61, 61, 61, 61],\n",
       "       [61, 61, 61, 61, 61, 54, 28, 14, 36, 60,  0, 11, 14,  0,  0, 35,\n",
       "         0, 36, 36, 27, 45, 53, 19, 28, 40, 47, 54, 61, 61, 61, 61],\n",
       "       [61, 61, 61, 61, 61, 61, 44, 23, 28, 51, 12,  0, 14, 37, 35,  0,\n",
       "        57, 28, 41, 59, 61, 56, 61, 61, 61, 61, 61, 61, 61, 61, 61],\n",
       "       [61, 61, 61, 61, 61, 54, 30, 23, 44, 61, 12, 35, 37, 14,  0, 57,\n",
       "         0, 58, 53, 37, 58, 61, 28, 26, 35, 47, 42, 59, 61, 61, 61],\n",
       "       [61, 61, 61, 61, 61, 61, 61, 61, 61, 61, 36, 18,  0, 16, 36, 28,\n",
       "        58,  0,  0, 16, 16,  0, 19, 48, 61, 61, 61, 61, 61, 61, 61],\n",
       "       [61, 61, 61, 61, 61, 61, 61, 60, 61, 61, 38, 29, 17, 25, 36, 41,\n",
       "        53,  0,  0,  0, 25, 15, 17, 43, 61, 61, 61, 61, 61, 61, 61],\n",
       "       [61, 61, 61, 61, 61, 61, 61, 61, 61, 61, 41, 41, 26, 16, 27, 59,\n",
       "        37, 16,  0,  0, 15, 24,  0, 15, 42, 56, 58, 61, 61, 61, 61],\n",
       "       [61, 61, 61, 61, 61, 61, 61, 61, 61, 61, 60, 52, 24, 16, 45, 61,\n",
       "        58, 16, 25, 15,  0,  0,  0, 16, 30, 31, 55, 61, 61, 61, 61],\n",
       "       [61, 61, 61, 61, 61, 61, 61, 61, 61, 61, 59, 44, 16, 25, 53, 56,\n",
       "        61,  0, 15, 24,  0,  0, 17, 44, 59, 58, 61, 61, 61, 61, 61],\n",
       "       [61, 61, 61, 61, 61, 61, 61, 61, 61, 61, 38, 39, 17,  0, 19, 61,\n",
       "        28, 19, 17,  0,  0, 17,  0,  0, 16, 26, 38, 61, 61, 61, 61],\n",
       "       [61, 61, 61, 61, 61, 61, 61, 61, 61, 61, 53, 61, 42, 16, 28, 61,\n",
       "        26, 48, 43, 15, 16, 44,  0,  0,  0, 12,  9, 37, 57, 61, 56],\n",
       "       [61, 61, 61, 61, 61, 61, 61, 61, 61, 61, 61, 61, 56, 28, 40, 61,\n",
       "        35, 61, 61, 42, 30, 59, 16,  0,  0,  0,  0, 14, 39, 60, 45],\n",
       "       [61, 61, 61, 61, 61, 61, 61, 61, 61, 61, 61, 61, 56, 30, 47, 61,\n",
       "        47, 61, 61, 56, 31, 58, 26, 12,  0,  0, 11, 22, 52, 61, 61],\n",
       "       [61, 61, 61, 61, 61, 61, 61, 61, 61, 61, 61, 61, 61, 49, 54, 61,\n",
       "        42, 61, 61, 58, 55, 61, 38,  9,  0, 11,  0,  0, 14, 37, 19],\n",
       "       [61, 61, 61, 61, 61, 61, 61, 61, 61, 61, 61, 61, 61, 61, 61, 61,\n",
       "        59, 61, 61, 61, 61, 61, 61, 37, 14, 22,  0,  0,  0, 13, 14],\n",
       "       [61, 61, 61, 61, 61, 61, 61, 61, 61, 61, 61, 61, 61, 61, 61, 61,\n",
       "        61, 61, 61, 61, 61, 61, 61, 57, 39, 52, 14,  0,  0,  0,  0],\n",
       "       [61, 61, 61, 61, 61, 61, 61, 61, 61, 61, 61, 61, 61, 61, 61, 61,\n",
       "        61, 61, 61, 61, 61, 61, 61, 61, 60, 61, 37, 13,  0,  0, 10],\n",
       "       [61, 61, 61, 61, 61, 61, 61, 61, 61, 61, 61, 61, 61, 61, 61, 61,\n",
       "        61, 61, 61, 61, 61, 61, 61, 56, 45, 61, 19, 14,  0, 10,  0]])"
      ]
     },
     "execution_count": 96,
     "metadata": {},
     "output_type": "execute_result"
    }
   ],
   "source": [
    "pandas_bins(dis_matrix,num_bins = None,noise = True)"
   ]
  },
  {
   "cell_type": "code",
   "execution_count": 92,
   "metadata": {},
   "outputs": [
    {
     "data": {
      "text/plain": [
       "99"
      ]
     },
     "execution_count": 92,
     "metadata": {},
     "output_type": "execute_result"
    }
   ],
   "source": [
    "(pandas_bins(dis_matrix,num_bins = None,noise = True) == 0).sum()"
   ]
  },
  {
   "cell_type": "code",
   "execution_count": 93,
   "metadata": {},
   "outputs": [
    {
     "data": {
      "text/plain": [
       "99.0"
      ]
     },
     "execution_count": 93,
     "metadata": {},
     "output_type": "execute_result"
    }
   ],
   "source": [
    "adj1.sum()"
   ]
  },
  {
   "cell_type": "code",
   "execution_count": 22,
   "metadata": {},
   "outputs": [
    {
     "data": {
      "text/plain": [
       "[(-0.0133, 1.333], (1.333, 2.667], (1.333, 2.667], (1.333, 2.667], (2.667, 4.0], ..., (2.667, 4.0], (1.333, 2.667], (-0.0133, 1.333], (1.333, 2.667], (-0.0133, 1.333]]\n",
       "Length: 961\n",
       "Categories (10, interval[float64]): [(-0.0133, 1.333] < (1.333, 2.667] < (2.667, 4.0] < (4.0, 5.333] ... (8.0, 9.333] < (9.333, 10.666] < (10.666, 11.999] < (11.999, 13.333]]"
      ]
     },
     "execution_count": 22,
     "metadata": {},
     "output_type": "execute_result"
    }
   ],
   "source": [
    "pd.Categorical(pd.cut(dis_matrix.flatten(),bins = 10))"
   ]
  },
  {
   "cell_type": "code",
   "execution_count": 18,
   "metadata": {},
   "outputs": [
    {
     "data": {
      "text/plain": [
       "(array([[  0,   1,   1, ..., 402, 404, 402],\n",
       "        [  1,   0,   3, ..., 403, 402, 404]]),\n",
       " tensor([[1, 0, 0, 0, 0],\n",
       "         [1, 0, 0, 0, 0],\n",
       "         [1, 0, 1, 0, 0],\n",
       "         ...,\n",
       "         [2, 0, 1, 0, 0],\n",
       "         [1, 0, 1, 0, 0],\n",
       "         [1, 0, 1, 0, 0]]))"
      ]
     },
     "execution_count": 18,
     "metadata": {},
     "output_type": "execute_result"
    }
   ],
   "source": [
    "pocket = (m1,m2)\n",
    "getEdge(pocket,n1 = len(m1.GetAtoms()),n2 = len(m2.GetAtoms()))"
   ]
  },
  {
   "cell_type": "code",
   "execution_count": 16,
   "metadata": {},
   "outputs": [],
   "source": [
    "\n",
    "def molEdge(mol,adj = None,n1= None,n2=None):\n",
    "    edges_list = []\n",
    "    edge_features_list = []\n",
    "    if len(mol.GetBonds()) > 0: # mol has bonds\n",
    "        for bond in mol.GetBonds():\n",
    "            i = bond.GetBeginAtomIdx() \n",
    "            j = bond.GetEndAtomIdx()\n",
    "            edge_feature = bond_to_feature_vector(bond)\n",
    "            # add edges in both directions\n",
    "            edges_list.append((i, j))\n",
    "            edge_features_list.append(edge_feature)\n",
    "            edges_list.append((j, i))\n",
    "            edge_features_list.append(edge_feature)\n",
    "    # add virtual aromatic nodes feature\n",
    "    # add mol \n",
    "    if adj== None:\n",
    "        return edges_list ,edge_features_list\n",
    "    else:\n",
    "        n = len(mol.GetAtom())\n",
    "        adj -= np.eye(len(adj))\n",
    "        dm = adj[n:n1,:n1]\n",
    "        edge_pos = np.where(dm ==1)\n",
    "        edges_list.extend([(i+ n,j) for (i,j) in zip(*edge_pos)])\n",
    "        edge_features_list.extend([[33,17,3,3,17] for edge_tuple in zip(*edge_pos)])\n",
    "        edges_list.extend([(j,i + n) for (i,j) in zip(*edge_pos)])\n",
    "        edge_features_list.extend([[33,17,3,3,17] for edge_tuple in zip(*edge_pos)])\n",
    "    return edges_list ,edge_features_list\n",
    "def pocketEdge(mol,adj=None,n1 = None,n2= None):\n",
    "    edges_list = []\n",
    "    edge_features_list = []\n",
    "    if len(mol.GetBonds()) > 0: # mol has bonds\n",
    "        for bond in mol.GetBonds():\n",
    "            i = bond.GetBeginAtomIdx() + n1\n",
    "            j = bond.GetEndAtomIdx() + n1\n",
    "            edge_feature = bond_to_feature_vector(bond)\n",
    "            # add edges in both directions\n",
    "            edges_list.append((i, j))\n",
    "            edge_features_list.append(edge_feature)\n",
    "            edges_list.append((j, i))\n",
    "            edge_features_list.append(edge_feature)\n",
    "    if adj== None :\n",
    "        return edges_list ,edge_features_list\n",
    "    # add virtual aromatic nodes feature\n",
    "    # add pocket\n",
    "    else:\n",
    "        n = len(mol.GetAtom()) + n1\n",
    "        all_n = len(adj)\n",
    "        adj -= np.eye(all_n)\n",
    "        dm = adj[n:,n1:]\n",
    "        edge_pos = np.where(dm ==1)\n",
    "        edges_list.extend([(i+ n,j + n1) for (i,j) in zip(*edge_pos)])\n",
    "        edge_features_list.extend([[33,17,3,3,17] for edge_tuple in zip(*edge_pos)])\n",
    "        edges_list.extend([(j + n1,i + n) for (i,j) in zip(*edge_pos)])\n",
    "        edge_features_list.extend([[33,17,3,3,17] for edge_tuple in zip(*edge_pos)])\n",
    "    return edges_list ,edge_features_list\n",
    "\n",
    "\n",
    "\n",
    "def getEdge(mols,n1,n2,adj = None):\n",
    "    num_bond_features = 5\n",
    "    mol,pocket = mols\n",
    "    mol1_edge_idxs,mol1_edge_attr = molEdge(mol,adj,n1,n2)\n",
    "    mol2_edge_idxs,mol2_edge_attr = pocketEdge(pocket,adj,n1,n2)\n",
    "    edges_list = mol1_edge_idxs + mol2_edge_idxs\n",
    "    edge_features_list = mol1_edge_attr + mol2_edge_attr\n",
    "\n",
    "    if adj== None:\n",
    "        pass\n",
    "    else:\n",
    "        #加入虚拟边，然后为虚拟边加入特征向量\n",
    "        dm = adj[:n1,n1:n2]\n",
    "        edge_pos = np.where(dm == 1)\n",
    "        edges_list.extend([(i,j+n1) for (i,j) in zip(*edge_pos)])\n",
    "        edge_features_list.extend([[32,16,2,2,16] for edge_tuple in zip(*edge_pos)])\n",
    "        edges_list.extend([(j+n1,i) for (i,j) in zip(*edge_pos)])\n",
    "        edge_features_list.extend([[32,16,2,2,16] for edge_tuple in zip(*edge_pos)])\n",
    "    if len(edges_list) == 0:\n",
    "        edge_index = np.empty((2, 0), dtype = np.int64)\n",
    "        edge_attr = np.empty((0, num_bond_features), dtype = np.int64)\n",
    "    else:\n",
    "        edge_index = np.array(edges_list, dtype = np.int64).T\n",
    "        edge_attr = torch.tensor(edge_features_list, dtype = torch.int64)\n",
    "\n",
    "    return edge_index,edge_attr"
   ]
  },
  {
   "cell_type": "code",
   "execution_count": 9,
   "metadata": {},
   "outputs": [
    {
     "data": {
      "text/plain": [
       "array([], shape=(2, 0), dtype=float64)"
      ]
     },
     "execution_count": 9,
     "metadata": {},
     "output_type": "execute_result"
    }
   ],
   "source": [
    "np.empty((2, 0))"
   ]
  },
  {
   "cell_type": "code",
   "execution_count": 14,
   "metadata": {},
   "outputs": [],
   "source": []
  },
  {
   "cell_type": "code",
   "execution_count": 15,
   "metadata": {},
   "outputs": [
    {
     "data": {
      "text/plain": [
       "[(1, 2), (2, 1)]"
      ]
     },
     "execution_count": 15,
     "metadata": {},
     "output_type": "execute_result"
    }
   ],
   "source": [
    "a"
   ]
  },
  {
   "cell_type": "code",
   "execution_count": null,
   "metadata": {},
   "outputs": [],
   "source": []
  }
 ],
 "metadata": {
  "interpreter": {
   "hash": "4e7c4be82d956e3d405771a23254847a22dc0150c4d6f01ea440ea999952515b"
  },
  "kernelspec": {
   "display_name": "Python 3.6.13 ('rdkit-env')",
   "language": "python",
   "name": "python3"
  },
  "language_info": {
   "codemirror_mode": {
    "name": "ipython",
    "version": 3
   },
   "file_extension": ".py",
   "mimetype": "text/x-python",
   "name": "python",
   "nbconvert_exporter": "python",
   "pygments_lexer": "ipython3",
   "version": "3.6.13"
  },
  "orig_nbformat": 4
 },
 "nbformat": 4,
 "nbformat_minor": 2
}
