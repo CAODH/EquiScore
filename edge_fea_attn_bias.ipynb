{
 "cells": [
  {
   "cell_type": "code",
   "execution_count": 1,
   "metadata": {},
   "outputs": [
    {
     "name": "stderr",
     "output_type": "stream",
     "text": [
      "/home/caoduanhua/anaconda3/envs/rdkit-env/lib/python3.6/site-packages/Cython/Compiler/Main.py:369: FutureWarning: Cython directive 'language_level' not set, using 2 for now (Py2). This will change in a later release! File: /home/caoduanhua/score_function/GNN/GNN_graphformer_pyg/algos.pyx\n",
      "  tree = Parsing.p_module(s, pxd, full_module_name)\n"
     ]
    }
   ],
   "source": [
    "import pickle\n",
    "# import optuna\n",
    "# from optuna.trial import TrialState\n",
    "from gnn import gnn\n",
    "import time\n",
    "import numpy as np\n",
    "import utils\n",
    "from utils import *\n",
    "import torch.nn as nn\n",
    "import torch\n",
    "import time\n",
    "import os\n",
    "os.environ['CUDA_LAUNCH_BLOCKING']='1'\n",
    "# os.envirment[]\n",
    "from collections import defaultdict\n",
    "import argparse\n",
    "import time\n",
    "from torch.utils.data import DataLoader          \n",
    "# from torch.utils.data import DataLoader\n",
    "from prefetch_generator import BackgroundGenerator"
   ]
  },
  {
   "cell_type": "code",
   "execution_count": 6,
   "metadata": {},
   "outputs": [],
   "source": [
    "sample_path = '/home/caoduanhua/score_function/data/general_refineset/refineset_active_pocket_without_h/1a4k_ligand_active_0'\n",
    "# sample = \n",
    "with  open(sample_path,'rb') as f:\n",
    "    m1,m2 = pickle.load(f)"
   ]
  },
  {
   "cell_type": "code",
   "execution_count": 4,
   "metadata": {},
   "outputs": [
    {
     "data": {
      "text/plain": [
       "<rdkit.Chem.rdchem._ROBondSeq at 0x7f38accfe170>"
      ]
     },
     "execution_count": 4,
     "metadata": {},
     "output_type": "execute_result"
    }
   ],
   "source": [
    "sample[0].GetBonds()"
   ]
  },
  {
   "cell_type": "code",
   "execution_count": 18,
   "metadata": {},
   "outputs": [
    {
     "data": {
      "text/plain": [
       "(array([[  0,   1,   1, ..., 402, 404, 402],\n",
       "        [  1,   0,   3, ..., 403, 402, 404]]),\n",
       " tensor([[1, 0, 0, 0, 0],\n",
       "         [1, 0, 0, 0, 0],\n",
       "         [1, 0, 1, 0, 0],\n",
       "         ...,\n",
       "         [2, 0, 1, 0, 0],\n",
       "         [1, 0, 1, 0, 0],\n",
       "         [1, 0, 1, 0, 0]]))"
      ]
     },
     "execution_count": 18,
     "metadata": {},
     "output_type": "execute_result"
    }
   ],
   "source": [
    "pocket = (m1,m2)\n",
    "getEdge(pocket,n1 = len(m1.GetAtoms()),n2 = len(m2.GetAtoms()))"
   ]
  },
  {
   "cell_type": "code",
   "execution_count": 16,
   "metadata": {},
   "outputs": [],
   "source": [
    "\n",
    "def molEdge(mol,adj = None,n1= None,n2=None):\n",
    "    edges_list = []\n",
    "    edge_features_list = []\n",
    "    if len(mol.GetBonds()) > 0: # mol has bonds\n",
    "        for bond in mol.GetBonds():\n",
    "            i = bond.GetBeginAtomIdx() \n",
    "            j = bond.GetEndAtomIdx()\n",
    "            edge_feature = bond_to_feature_vector(bond)\n",
    "            # add edges in both directions\n",
    "            edges_list.append((i, j))\n",
    "            edge_features_list.append(edge_feature)\n",
    "            edges_list.append((j, i))\n",
    "            edge_features_list.append(edge_feature)\n",
    "    # add virtual aromatic nodes feature\n",
    "    # add mol \n",
    "    if adj== None:\n",
    "        return edges_list ,edge_features_list\n",
    "    else:\n",
    "        n = len(mol.GetAtom())\n",
    "        adj -= np.eye(len(adj))\n",
    "        dm = adj[n:n1,:n1]\n",
    "        edge_pos = np.where(dm ==1)\n",
    "        edges_list.extend([(i+ n,j) for (i,j) in zip(*edge_pos)])\n",
    "        edge_features_list.extend([[33,17,3,3,17] for edge_tuple in zip(*edge_pos)])\n",
    "        edges_list.extend([(j,i + n) for (i,j) in zip(*edge_pos)])\n",
    "        edge_features_list.extend([[33,17,3,3,17] for edge_tuple in zip(*edge_pos)])\n",
    "    return edges_list ,edge_features_list\n",
    "def pocketEdge(mol,adj=None,n1 = None,n2= None):\n",
    "    edges_list = []\n",
    "    edge_features_list = []\n",
    "    if len(mol.GetBonds()) > 0: # mol has bonds\n",
    "        for bond in mol.GetBonds():\n",
    "            i = bond.GetBeginAtomIdx() + n1\n",
    "            j = bond.GetEndAtomIdx() + n1\n",
    "            edge_feature = bond_to_feature_vector(bond)\n",
    "            # add edges in both directions\n",
    "            edges_list.append((i, j))\n",
    "            edge_features_list.append(edge_feature)\n",
    "            edges_list.append((j, i))\n",
    "            edge_features_list.append(edge_feature)\n",
    "    if adj== None :\n",
    "        return edges_list ,edge_features_list\n",
    "    # add virtual aromatic nodes feature\n",
    "    # add pocket\n",
    "    else:\n",
    "        n = len(mol.GetAtom()) + n1\n",
    "        all_n = len(adj)\n",
    "        adj -= np.eye(all_n)\n",
    "        dm = adj[n:,n1:]\n",
    "        edge_pos = np.where(dm ==1)\n",
    "        edges_list.extend([(i+ n,j + n1) for (i,j) in zip(*edge_pos)])\n",
    "        edge_features_list.extend([[33,17,3,3,17] for edge_tuple in zip(*edge_pos)])\n",
    "        edges_list.extend([(j + n1,i + n) for (i,j) in zip(*edge_pos)])\n",
    "        edge_features_list.extend([[33,17,3,3,17] for edge_tuple in zip(*edge_pos)])\n",
    "    return edges_list ,edge_features_list\n",
    "\n",
    "\n",
    "\n",
    "def getEdge(mols,n1,n2,adj = None):\n",
    "    num_bond_features = 5\n",
    "    mol,pocket = mols\n",
    "    mol1_edge_idxs,mol1_edge_attr = molEdge(mol,adj,n1,n2)\n",
    "    mol2_edge_idxs,mol2_edge_attr = pocketEdge(pocket,adj,n1,n2)\n",
    "    edges_list = mol1_edge_idxs + mol2_edge_idxs\n",
    "    edge_features_list = mol1_edge_attr + mol2_edge_attr\n",
    "\n",
    "    if adj== None:\n",
    "        pass\n",
    "    else:\n",
    "        #加入虚拟边，然后为虚拟边加入特征向量\n",
    "        dm = adj[:n1,n1:n2]\n",
    "        edge_pos = np.where(dm == 1)\n",
    "        edges_list.extend([(i,j+n1) for (i,j) in zip(*edge_pos)])\n",
    "        edge_features_list.extend([[32,16,2,2,16] for edge_tuple in zip(*edge_pos)])\n",
    "        edges_list.extend([(j+n1,i) for (i,j) in zip(*edge_pos)])\n",
    "        edge_features_list.extend([[32,16,2,2,16] for edge_tuple in zip(*edge_pos)])\n",
    "    if len(edges_list) == 0:\n",
    "        edge_index = np.empty((2, 0), dtype = np.int64)\n",
    "        edge_attr = np.empty((0, num_bond_features), dtype = np.int64)\n",
    "    else:\n",
    "        edge_index = np.array(edges_list, dtype = np.int64).T\n",
    "        edge_attr = torch.tensor(edge_features_list, dtype = torch.int64)\n",
    "\n",
    "    return edge_index,edge_attr"
   ]
  },
  {
   "cell_type": "code",
   "execution_count": 9,
   "metadata": {},
   "outputs": [
    {
     "data": {
      "text/plain": [
       "array([], shape=(2, 0), dtype=float64)"
      ]
     },
     "execution_count": 9,
     "metadata": {},
     "output_type": "execute_result"
    }
   ],
   "source": [
    "np.empty((2, 0))"
   ]
  },
  {
   "cell_type": "code",
   "execution_count": 14,
   "metadata": {},
   "outputs": [],
   "source": []
  },
  {
   "cell_type": "code",
   "execution_count": 15,
   "metadata": {},
   "outputs": [
    {
     "data": {
      "text/plain": [
       "[(1, 2), (2, 1)]"
      ]
     },
     "execution_count": 15,
     "metadata": {},
     "output_type": "execute_result"
    }
   ],
   "source": [
    "a"
   ]
  },
  {
   "cell_type": "code",
   "execution_count": null,
   "metadata": {},
   "outputs": [],
   "source": []
  }
 ],
 "metadata": {
  "interpreter": {
   "hash": "4e7c4be82d956e3d405771a23254847a22dc0150c4d6f01ea440ea999952515b"
  },
  "kernelspec": {
   "display_name": "Python 3.6.13 ('rdkit-env')",
   "language": "python",
   "name": "python3"
  },
  "language_info": {
   "codemirror_mode": {
    "name": "ipython",
    "version": 3
   },
   "file_extension": ".py",
   "mimetype": "text/x-python",
   "name": "python",
   "nbconvert_exporter": "python",
   "pygments_lexer": "ipython3",
   "version": "3.6.13"
  },
  "orig_nbformat": 4
 },
 "nbformat": 4,
 "nbformat_minor": 2
}
