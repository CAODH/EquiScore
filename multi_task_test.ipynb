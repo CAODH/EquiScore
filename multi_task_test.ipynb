{
 "cells": [
  {
   "cell_type": "code",
   "execution_count": 1,
   "metadata": {},
   "outputs": [
    {
     "name": "stdout",
     "output_type": "stream",
     "text": [
      "2022-04-22 08:10:30\n"
     ]
    }
   ],
   "source": [
    "import pickle\n",
    "# import optuna\n",
    "# from optuna.trial import TrialState\n",
    "from gnn import gnn\n",
    "import time\n",
    "import numpy as np\n",
    "import utils\n",
    "from utils import *\n",
    "import torch.nn as nn\n",
    "import torch\n",
    "import time\n",
    "import os\n",
    "os.environ['CUDA_LAUNCH_BLOCKING']='1'\n",
    "# os.envirment[]\n",
    "from collections import defaultdict\n",
    "import argparse\n",
    "import time\n",
    "from torch.utils.data import DataLoader          \n",
    "# from torch.utils.data import DataLoader\n",
    "from prefetch_generator import BackgroundGenerator\n",
    "class DataLoaderX(DataLoader):\n",
    "    def __iter__(self):\n",
    "        return BackgroundGenerator(super().__iter__())                            \n",
    "from graphformer_dataset import graphformerDataset, collate_fn, DTISampler\n",
    "now = time.localtime()\n",
    "from rdkit import RDLogger\n",
    "RDLogger.DisableLog('rdApp.*')\n",
    "s = \"%04d-%02d-%02d %02d:%02d:%02d\" % (now.tm_year, now.tm_mon, now.tm_mday, now.tm_hour, now.tm_min, now.tm_sec)\n",
    "print (s)\n",
    "# os.chdir(os.path.abspath(os.path.dirname(__file__)))\n",
    "def get_args_from_json(json_file_path, args_dict):\n",
    "    import json\n",
    "    summary_filename = json_file_path\n",
    "    with open(summary_filename) as f:\n",
    "        summary_dict = json.load(fp=f)\n",
    "    for key in summary_dict.keys():\n",
    "        args_dict[key] = summary_dict[key]\n",
    "    return args_dict\n",
    "parser = argparse.ArgumentParser(description='json param')\n",
    "parser.add_argument(\"--json_path\", help=\"file path of param\", type=str, \\\n",
    "    default='/home/caoduanhua/score_function/GNN/GNN_graphformer_pyg/train_keys/config_files/train_add_reg_logk_weightesloss.json')\n",
    "\n",
    "# label_smoothing# temp_args = parser.parse_args()\n",
    "args_dict = vars(parser.parse_args([]))\n",
    "args = get_args_from_json(args_dict['json_path'], args_dict)\n",
    "args = argparse.Namespace(**args)\n",
    "device = torch.device(\"cuda:0\" if torch.cuda.is_available() else \"cpu\")\n",
    "args.device = device\n",
    "if args.loss_fn == 'bce_loss':\n",
    "    loss_fn = nn.BCELoss().to(args.device)# \n",
    "elif args.loss_fn == 'focal_loss':\n",
    "    loss_fn = FocalLoss().to(args.device)\n",
    "elif args.loss_fn == 'cross_entry':\n",
    "    loss_fn = torch.nn.CrossEntropyLoss(label_smoothing=args.label_smothing).to(args.device)\n",
    "elif args.loss_fn == 'mse_loss':\n",
    "    loss_fn = nn.MSELoss().to(args.device)\n",
    "else:\n",
    "    raise ValueError('not support this loss : %s'%args.loss_fn)"
   ]
  },
  {
   "cell_type": "code",
   "execution_count": 2,
   "metadata": {},
   "outputs": [
    {
     "data": {
      "text/plain": [
       "tensor(2.3026)"
      ]
     },
     "execution_count": 2,
     "metadata": {},
     "output_type": "execute_result"
    }
   ],
   "source": [
    "loss_fn(torch.tensor([0.1,0.9]),torch.tensor([1,0]).float())"
   ]
  },
  {
   "cell_type": "code",
   "execution_count": 3,
   "metadata": {},
   "outputs": [
    {
     "data": {
      "text/plain": [
       "'\\n用分类数据把所有的分类结果拿出来看是不是找到了所有的阳性样本\\n输出\\n'"
      ]
     },
     "execution_count": 3,
     "metadata": {},
     "output_type": "execute_result"
    }
   ],
   "source": [
    "model = gnn(args)\n",
    "'''\n",
    "用分类数据把所有的分类结果拿出来看是不是找到了所有的阳性样本\n",
    "输出\n",
    "'''"
   ]
  },
  {
   "cell_type": "code",
   "execution_count": 4,
   "metadata": {},
   "outputs": [
    {
     "data": {
      "text/plain": [
       "gnn(\n",
       "  (atom_encoder): Embedding(51, 80, padding_idx=0)\n",
       "  (edge_encoder): Identity()\n",
       "  (rel_pos_encoder): Identity()\n",
       "  (in_degree_encoder): Embedding(10, 80, padding_idx=0)\n",
       "  (out_degree_encoder): Identity()\n",
       "  (rel_3d_encoder): Identity()\n",
       "  (gconv1): ModuleList(\n",
       "    (0): EncoderLayer(\n",
       "      (self_attention_norm): Norm_mul()\n",
       "      (self_attention): MultiHeadAttention(\n",
       "        (linear_q): Linear(in_features=80, out_features=80, bias=True)\n",
       "        (linear_k): Linear(in_features=80, out_features=80, bias=True)\n",
       "        (linear_v): Linear(in_features=80, out_features=80, bias=True)\n",
       "        (att_dropout): Dropout(p=0.2, inplace=False)\n",
       "        (output_layer): Linear(in_features=80, out_features=80, bias=True)\n",
       "      )\n",
       "      (self_attention_dropout): Dropout(p=0.2, inplace=False)\n",
       "      (ffn_norm): Norm_mul()\n",
       "      (ffn): FeedForwardNetwork(\n",
       "        (layer1): Linear(in_features=80, out_features=280, bias=True)\n",
       "        (gelu): GELU()\n",
       "        (layer2): Linear(in_features=280, out_features=80, bias=True)\n",
       "      )\n",
       "      (ffn_dropout): Dropout(p=0.2, inplace=False)\n",
       "    )\n",
       "    (1): EncoderLayer(\n",
       "      (self_attention_norm): Norm_mul()\n",
       "      (self_attention): MultiHeadAttention(\n",
       "        (linear_q): Linear(in_features=80, out_features=80, bias=True)\n",
       "        (linear_k): Linear(in_features=80, out_features=80, bias=True)\n",
       "        (linear_v): Linear(in_features=80, out_features=80, bias=True)\n",
       "        (att_dropout): Dropout(p=0.2, inplace=False)\n",
       "        (output_layer): Linear(in_features=80, out_features=80, bias=True)\n",
       "      )\n",
       "      (self_attention_dropout): Dropout(p=0.2, inplace=False)\n",
       "      (ffn_norm): Norm_mul()\n",
       "      (ffn): FeedForwardNetwork(\n",
       "        (layer1): Linear(in_features=80, out_features=280, bias=True)\n",
       "        (gelu): GELU()\n",
       "        (layer2): Linear(in_features=280, out_features=80, bias=True)\n",
       "      )\n",
       "      (ffn_dropout): Dropout(p=0.2, inplace=False)\n",
       "    )\n",
       "  )\n",
       "  (FC): ModuleList(\n",
       "    (0): Linear(in_features=80, out_features=128, bias=True)\n",
       "    (1): Linear(in_features=128, out_features=128, bias=True)\n",
       "    (2): Linear(in_features=128, out_features=128, bias=True)\n",
       "    (3): Linear(in_features=128, out_features=2, bias=True)\n",
       "  )\n",
       "  (FC_reg): ModuleList(\n",
       "    (0): Linear(in_features=128, out_features=128, bias=True)\n",
       "    (1): Linear(in_features=128, out_features=1, bias=True)\n",
       "  )\n",
       ")"
      ]
     },
     "execution_count": 4,
     "metadata": {},
     "output_type": "execute_result"
    }
   ],
   "source": [
    "# model\n",
    "load_save_file = '/home/caoduanhua/score_function/GNN/train_result/pdbscreen_less_neg_5_bind/graphformer/GAT_gate/2022-04-12-14-47-48/save_best_model.pt'\n",
    "state_dict = torch.load(load_save_file,map_location = 'cpu')\n",
    "model_dict = state_dict['model']\n",
    "# model_dict.pop('deta')\n",
    "model_state_dict = model.state_dict()\n",
    "# model_dict = {k:v for k,v in model_dict.items() if 'FC' not in k}# gengxin\n",
    "model_state_dict.update(model_dict)\n",
    "model.load_state_dict(model_state_dict) \n",
    "model.to(args.device)\n"
   ]
  },
  {
   "cell_type": "code",
   "execution_count": 5,
   "metadata": {},
   "outputs": [],
   "source": [
    "'''\n",
    "测试一下dekois 二分类召回效果\n",
    "'''\n",
    "test_keys_pro = glob.glob('/home/caoduanhua/score_function/data/independent/dekois_pocket/*')\n",
    "test_dataset = graphformerDataset(test_keys_pro,args, data_dir = '',debug = False)\n",
    "test_dataloader = DataLoader(test_dataset, batch_size = 2, \\\n",
    "shuffle=False, num_workers = 8, collate_fn=collate_fn,pin_memory = True)\n",
    "test_losses,test_true,test_pred = evaluator(model,test_dataloader,loss_fn,args)\n",
    "\n"
   ]
  },
  {
   "cell_type": "code",
   "execution_count": 7,
   "metadata": {},
   "outputs": [
    {
     "data": {
      "text/plain": [
       "(0.5166550166896441,\n",
       " 0.292547632759829,\n",
       " 0.03477319754265698,\n",
       " 0.4999891808847872,\n",
       " 0.9670119271814187,\n",
       " 0.0,\n",
       " 0.0,\n",
       " 0.9999783617695744,\n",
       " 0.0)"
      ]
     },
     "execution_count": 7,
     "metadata": {},
     "output_type": "execute_result"
    }
   ],
   "source": [
    "# logits > 0.5 里面的数据能不能把阳性都选出来，recall \n",
    "get_metrics(test_true,test_pred)"
   ]
  },
  {
   "cell_type": "markdown",
   "metadata": {},
   "source": []
  },
  {
   "cell_type": "code",
   "execution_count": 9,
   "metadata": {},
   "outputs": [],
   "source": [
    "# tn, fp, fn, tp = confusion_matrix(train_true,train_pred_label).ravel()\n",
    "test_pred = np.concatenate(np.array(test_pred,dtype=object), 0).astype(np.float)\n",
    "test_pred_label = np.where(test_pred > 0.2,1,0).astype(np.long)\n",
    "test_true = np.concatenate(np.array(test_true,dtype=object), 0).astype(np.long)"
   ]
  },
  {
   "cell_type": "code",
   "execution_count": 11,
   "metadata": {},
   "outputs": [],
   "source": [
    "test_pred_label = np.where(test_pred > 0.5,1,0).astype(np.long)\n",
    "tn, fp, fn, tp = confusion_matrix(test_true,test_pred_label).ravel()"
   ]
  },
  {
   "cell_type": "code",
   "execution_count": 14,
   "metadata": {},
   "outputs": [
    {
     "data": {
      "text/plain": [
       "(array([8.6249e+04, 8.2340e+03, 9.4500e+02, 1.1900e+02, 1.7000e+01,\n",
       "        7.0000e+00, 6.0000e+00, 1.0000e+00, 0.0000e+00, 2.0000e+00]),\n",
       " array([0.        , 0.0635025 , 0.127005  , 0.19050751, 0.25401001,\n",
       "        0.31751251, 0.38101501, 0.44451752, 0.50802002, 0.57152252,\n",
       "        0.63502502]),\n",
       " <a list of 10 Patch objects>)"
      ]
     },
     "execution_count": 14,
     "metadata": {},
     "output_type": "execute_result"
    },
    {
     "data": {
      "image/png": "[encoded data removed]",
      "text/plain": [
       "<Figure size 432x288 with 1 Axes>"
      ]
     },
     "metadata": {
      "needs_background": "light"
     },
     "output_type": "display_data"
    }
   ],
   "source": [
    "import matplotlib.pyplot as plt\n",
    "plt.hist(test_pred)"
   ]
  },
  {
   "cell_type": "code",
   "execution_count": 12,
   "metadata": {},
   "outputs": [
    {
     "data": {
      "text/plain": [
       "array([92427,  3151,     2,     0])"
      ]
     },
     "execution_count": 12,
     "metadata": {},
     "output_type": "execute_result"
    }
   ],
   "source": [
    "# tn, fp, fn, tp \n",
    "confusion_matrix(test_pred_label,test_true).ravel()"
   ]
  },
  {
   "cell_type": "code",
   "execution_count": 15,
   "metadata": {},
   "outputs": [],
   "source": [
    "# select single pro \n",
    "from collections import defaultdict\n",
    "\n",
    "pros_keys = defaultdict(list)\n",
    "for i,key in enumerate(test_keys_pro):\n",
    "    pros_keys[key.split('/')[-1].split('_')[0]].append(i)\n",
    "pros = set([pro.split('/')[-1].split('_')[0] for pro in test_keys_pro])"
   ]
  },
  {
   "cell_type": "code",
   "execution_count": 16,
   "metadata": {},
   "outputs": [
    {
     "name": "stderr",
     "output_type": "stream",
     "text": [
      "/home/caoduanhua/anaconda3/envs/rdkit-env/lib/python3.6/site-packages/ipykernel_launcher.py:15: RuntimeWarning: invalid value encountered in long_scalars\n",
      "  from ipykernel import kernelapp as app\n"
     ]
    }
   ],
   "source": [
    "EFs = []\n",
    "hits_lists = []\n",
    "for pro in pros:\n",
    "    idxs = pros_keys[pro]\n",
    "    single_pro_true = test_true[idxs]\n",
    "    single_pro_pred = test_pred[idxs]\n",
    "    EF = []\n",
    "    hits_list = []\n",
    "    action_rate = sum(single_pro_true)/len(idxs)\n",
    "    for rate in [0.001,0.005,0.01,0.05]:\n",
    "        find_limit = int(len(idxs)*rate)\n",
    "        # print(find_limit)\n",
    "        _,indices = torch.sort(torch.tensor(single_pro_pred),descending = True)\n",
    "        hits = np.sum(single_pro_true[indices[:find_limit]])\n",
    "        EF.append((hits/find_limit)/action_rate)\n",
    "        hits_list.append(hits)\n",
    "    EFs.append(EF)\n",
    "    hits_lists.append(hits_list)"
   ]
  },
  {
   "cell_type": "code",
   "execution_count": 17,
   "metadata": {},
   "outputs": [
    {
     "data": {
      "text/plain": [
       "[[0.0, 0.0, 2.7387387387387383, 1.0954954954954954],\n",
       " [0.0, 0.0, 0.0, 0.0],\n",
       " [0.0, 0.0, 2.755244755244755, 2.0547588005215123],\n",
       " [0.0, 0.0, 0.0, 0.0],\n",
       " [0.0, 0.0, 0.0, 0.5337719298245615],\n",
       " [0.0, 5.136752136752136, 2.568376068376068, 3.082051282051282],\n",
       " [0.0, 0.0, 0.0, 0.5058333333333334],\n",
       " [0.0, 0.0, 0.0, 2.0],\n",
       " [0.0, 0.0, 0.0, 0.5012295081967214],\n",
       " [0.0, 0.0, 2.5876068376068373, 2.5876068376068373],\n",
       " [0.0, 0.0, 0.0, 0.0],\n",
       " [0.0, 0.0, 0.0, 0.0],\n",
       " [0.0, 0.0, 0.0, 2.0229508196721313],\n",
       " [0.0, 0.0, 2.5145833333333334, 2.5145833333333334],\n",
       " [nan, 0.0, 0.0, 0.0],\n",
       " [0.0, 0.0, 2.5909090909090913, 2.0],\n",
       " [0.0, 0.0, 0.0, 0.5067796610169492],\n",
       " [nan, 0.0, 0.0, 1.6543990799309947],\n",
       " [0.0, 0.0, 0.0, 1.0033898305084745],\n",
       " [0.0, 5.1625000000000005, 2.5812500000000003, 1.0155737704918035],\n",
       " [0.0, 0.0, 0.0, 0.0],\n",
       " [0.0, 0.0, 0.0, 0.5061475409836066],\n",
       " [30.624999999999996,\n",
       "  5.104166666666666,\n",
       "  5.104166666666666,\n",
       "  2.0081967213114753],\n",
       " [0.0, 0.0, 0.0, 0.0],\n",
       " [0.0, 0.0, 0.0, 1.6272134203168687],\n",
       " [0.0, 11.978947368421053, 5.444976076555024, 2.139097744360902],\n",
       " [0.0, 0.0, 0.0, 2.6270967741935487],\n",
       " [0.0, 0.0, 0.0, 0.0],\n",
       " [0.0, 5.31140350877193, 5.31140350877193, 1.593421052631579],\n",
       " [0.0, 5.0375, 2.51875, 1.0075],\n",
       " [0.0, 0.0, 0.0, 1.0096491228070175],\n",
       " [0.0, 0.0, 0.0, 1.001639344262295],\n",
       " [0.0, 0.0, 0.0, 0.0],\n",
       " [0.0, 0.0, 0.0, 1.0256410256410258],\n",
       " [0.0, 0.0, 2.5541666666666667, 4.019672131147542],\n",
       " [0.0, 0.0, 0.0, 0.5267695099818511],\n",
       " [nan, 0.0, 0.0, 1.702651515151515],\n",
       " [31.5, 6.300000000000001, 5.7272727272727275, 1.0677966101694916],\n",
       " [0.0, 0.0, 0.0, 0.0],\n",
       " [0.0, 0.0, 0.0, 0.0],\n",
       " [0.0, 0.0, 0.0, 0.5166666666666667],\n",
       " [0.0, 0.0, 0.0, 1.55],\n",
       " [0.0, 0.0, 0.0, 0.5162393162393163],\n",
       " [0.0, 0.0, 0.0, 1.005],\n",
       " [0.0, 0.0, 2.5479166666666666, 1.0024590163934428],\n",
       " [0.0, 5.15, 12.875000000000002, 8.104918032786886],\n",
       " [nan, 0.0, 0.0, 0.0],\n",
       " [0.0, 0.0, 0.0, 1.0041666666666667],\n",
       " [0.0, 0.0, 0.0, 1.0578084555651424],\n",
       " [0.0, 0.0, 0.0, 0.0],\n",
       " [0.0, 0.0, 0.0, 0.5040983606557377],\n",
       " [0.0, 0.0, 0.0, 0.5075],\n",
       " [0.0, 0.0, 0.0, 1.51875],\n",
       " [0.0, 0.0, 0.0, 2.0295081967213116],\n",
       " [0.0, 5.116666666666666, 5.116666666666666, 2.013114754098361],\n",
       " [0.0, 0.0, 0.0, 0.0],\n",
       " [0.0, 0.0, 0.0, 0.5053278688524591],\n",
       " [0.0, 0.0, 0.0, 1.5241525423728814],\n",
       " [0.0, 6.005128205128206, 2.72960372960373, 1.5530503978779842],\n",
       " [0.0, 0.0, 0.0, 1.0274093722369584],\n",
       " [0.0, 0.0, 0.0, 1.5175],\n",
       " [0.0, 0.0, 0.0, 0.0],\n",
       " [0.0, 0.0, 0.0, 1.0065573770491805],\n",
       " [0.0, 0.0, 0.0, 1.0075],\n",
       " [0.0, 0.0, 0.0, 1.0406719717064545],\n",
       " [0.0, 0.0, 0.0, 0.0],\n",
       " [0.0, 0.0, 2.722727272727273, 1.0152542372881357],\n",
       " [0.0, 0.0, 0.0, 0.5069672131147541],\n",
       " [0.0, 5.1, 2.55, 1.0032786885245901],\n",
       " [0.0, 0.0, 0.0, 0.5058333333333334],\n",
       " [0.0, 0.0, 0.0, 1.036940460669274],\n",
       " [0.0, 0.0, 0.0, 0.5187053383774696],\n",
       " [0.0, 5.133333333333334, 2.566666666666667, 1.5147540983606558],\n",
       " [0.0, 0.0, 0.0, 0.0],\n",
       " [0.0, 5.98, 2.7181818181818183, 3.040677966101695],\n",
       " [0.0, 0.0, 0.0, 1.5012295081967213],\n",
       " [0.0, 0.0, 0.0, 0.5128205128205128],\n",
       " [nan, 0.0, 0.0, 1.456221198156682],\n",
       " [0.0, 0.0, 0.0, 1.0299145299145298],\n",
       " [0.0, 0.0, 0.0, 1.069548872180451],\n",
       " [0.0, 0.0, 0.0, 0.0]]"
      ]
     },
     "execution_count": 17,
     "metadata": {},
     "output_type": "execute_result"
    }
   ],
   "source": [
    "EFs"
   ]
  },
  {
   "cell_type": "code",
   "execution_count": null,
   "metadata": {},
   "outputs": [],
   "source": []
  },
  {
   "cell_type": "code",
   "execution_count": 49,
   "metadata": {},
   "outputs": [],
   "source": [
    "# actions = sum()\n",
    "EF = []\n",
    "hits_list = []\n",
    "action_rate = sum(test_true)/len(test_keys_pro)\n",
    "for rate in [0.001,0.005,0.01,0.05]:\n",
    "    find_limit = int(len(test_keys_pro)*rate)\n",
    "    # print(find_limit)\n",
    "    _,indices = torch.sort(torch.tensor(test_pred),descending = True)\n",
    "    hits = np.sum(test_true[indices[:find_limit]])\n",
    "    EF.append((hits/find_limit)/action_rate)\n",
    "    hits_list.append(hits)"
   ]
  },
  {
   "cell_type": "code",
   "execution_count": 50,
   "metadata": {},
   "outputs": [
    {
     "data": {
      "text/plain": [
       "[0.31929713207168986,\n",
       " 1.2718334401178424,\n",
       " 0.9528762580149907,\n",
       " 0.9838146620120597]"
      ]
     },
     "execution_count": 50,
     "metadata": {},
     "output_type": "execute_result"
    }
   ],
   "source": [
    "EF"
   ]
  },
  {
   "cell_type": "code",
   "execution_count": 41,
   "metadata": {},
   "outputs": [
    {
     "data": {
      "text/plain": [
       "'/home/caoduanhua/score_function/data/independent/dekois_pocket/ace2_decoy_glide_SP_481'"
      ]
     },
     "execution_count": 41,
     "metadata": {},
     "output_type": "execute_result"
    }
   ],
   "source": []
  },
  {
   "cell_type": "code",
   "execution_count": null,
   "metadata": {},
   "outputs": [],
   "source": []
  }
 ],
 "metadata": {
  "interpreter": {
   "hash": "4e7c4be82d956e3d405771a23254847a22dc0150c4d6f01ea440ea999952515b"
  },
  "kernelspec": {
   "display_name": "Python 3.6.13 ('rdkit-env')",
   "language": "python",
   "name": "python3"
  },
  "language_info": {
   "codemirror_mode": {
    "name": "ipython",
    "version": 3
   },
   "file_extension": ".py",
   "mimetype": "text/x-python",
   "name": "python",
   "nbconvert_exporter": "python",
   "pygments_lexer": "ipython3",
   "version": "3.6.13"
  },
  "orig_nbformat": 4
 },
 "nbformat": 4,
 "nbformat_minor": 2
}
